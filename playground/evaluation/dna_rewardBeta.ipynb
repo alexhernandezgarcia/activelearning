{
 "cells": [
  {
   "cell_type": "code",
   "execution_count": null,
   "metadata": {},
   "outputs": [],
   "source": [
    "import biotite.sequence as biotite_seq\n",
    "import biotite.sequence.align as align\n",
    "substitution_matrix = align.SubstitutionMatrix.std_nucleotide_matrix()\n",
    "import glob\n",
    "import pandas as pd\n",
    "import wandb\n",
    "import itertools\n",
    "import torch\n",
    "import numpy as np\n",
    "import os\n",
    "import matplotlib.pyplot as plt\n",
    "from matplotlib.cm import coolwarm\n",
    "from matplotlib.colors import Normalize"
   ]
  },
  {
   "cell_type": "code",
   "execution_count": null,
   "metadata": {},
   "outputs": [],
   "source": []
  }
 ],
 "metadata": {
  "language_info": {
   "name": "python"
  },
  "orig_nbformat": 4
 },
 "nbformat": 4,
 "nbformat_minor": 2
}
