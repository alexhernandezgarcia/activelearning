{
 "cells": [
  {
   "cell_type": "code",
   "execution_count": 1,
   "metadata": {},
   "outputs": [],
   "source": [
    "import torch\n",
    "device = \"cuda\" if torch.cuda.is_available() else \"cpu\"\n",
    "import sys\n",
    "import random\n",
    "import os\n",
    "import torch\n",
    "import matplotlib.pyplot as plt\n",
    "import numpy as np\n",
    "import pickle"
   ]
  },
  {
   "cell_type": "code",
   "execution_count": 2,
   "metadata": {},
   "outputs": [
    {
     "name": "stdout",
     "output_type": "stream",
     "text": [
      "tensor([[ 0,  7],\n",
      "        [ 1, 41],\n",
      "        [43,  0],\n",
      "        [83, 84]]) tensor([-272.7960, -122.4223,  -25.6283, -141.9208])\n",
      "(tensor([[0.0000, 0.0700],\n",
      "        [0.0100, 0.4100],\n",
      "        [0.4300, 0.0000],\n",
      "        [0.8300, 0.8400]]), tensor([0.0000, 0.6084, 1.0000, 0.5295]))\n",
      "tensor([[0.0100, 0.4100],\n",
      "        [0.0000, 0.0700],\n",
      "        [0.4300, 0.0000],\n",
      "        [0.8300, 0.8400]]) tensor([0.6084, 0.0000, 1.0000, 0.5295], dtype=torch.float64)\n"
     ]
    }
   ],
   "source": [
    "# dataset\n",
    "from dataset.dataset import Branin_DatasetHandler\n",
    "dataset = Branin_DatasetHandler(train_path=\"./storage/branin/data_train.csv\", train_fraction=1.0, device=device)\n",
    "\n",
    "# test dataset\n",
    "print(dataset.train_data.X_data, dataset.train_data.y_data)\n",
    "print(dataset.train_data[:])\n",
    "train_loader, test_loader = dataset.get_dataloader()\n",
    "for X, y in train_loader:\n",
    "    print(X, y)"
   ]
  },
  {
   "cell_type": "code",
   "execution_count": 3,
   "metadata": {},
   "outputs": [
    {
     "name": "stdout",
     "output_type": "stream",
     "text": [
      "{'do': {'online': True, 'times': True}, 'ckpts': {'policy': {'period': 5000}, 'regressor': {'period': 10}}, 'train': {'period': 1}, 'test': {'period': -1, 'n': 1, 'first_it': True, 'kde': {'bandwidth': 0.1, 'kernel': 'gaussian'}}, 'oracle': {'period': -1, 'k': [1, 10, 100]}, 'logdir': {'root': './logs', 'ckpts': 'ckpts', 'data': 'data', 'overwrite': True}, 'lightweight': False, 'progress': True, 'debug': False, 'project_name': 'MF-AL-GFN', 'tags': ['branin', 'sf']}\n"
     ]
    }
   ],
   "source": [
    "# Load Hydra config in notebooks\n",
    "# https://github.com/facebookresearch/hydra/blob/main/examples/jupyter_notebooks/compose_configs_in_notebook.ipynb\n",
    "import os\n",
    "from hydra import initialize_config_dir, compose\n",
    "from omegaconf import OmegaConf\n",
    "\n",
    "abs_config_dir=os.path.abspath(\"config/\")\n",
    "with initialize_config_dir(version_base=None, config_dir=abs_config_dir):\n",
    "    config_logger = compose(config_name=\"logger.yaml\", overrides=[])\n",
    "    # print(OmegaConf.to_yaml(env_config))\n",
    "    print(config_logger)"
   ]
  },
  {
   "cell_type": "code",
   "execution_count": 4,
   "metadata": {},
   "outputs": [
    {
     "name": "stderr",
     "output_type": "stream",
     "text": [
      "Failed to detect the name of this notebook, you can set it manually with the WANDB_NOTEBOOK_NAME environment variable to enable code saving.\n",
      "\u001b[34m\u001b[1mwandb\u001b[0m: Currently logged in as: \u001b[33mchristina-humer\u001b[0m. Use \u001b[1m`wandb login --relogin`\u001b[0m to force relogin\n"
     ]
    },
    {
     "data": {
      "text/html": [
       "Tracking run with wandb version 0.16.4"
      ],
      "text/plain": [
       "<IPython.core.display.HTML object>"
      ]
     },
     "metadata": {},
     "output_type": "display_data"
    },
    {
     "data": {
      "text/html": [
       "Run data is saved locally in <code>/home/mila/c/christina.humer/activelearning/my_package/wandb/run-20240318_054509-rbt5v1rx</code>"
      ],
      "text/plain": [
       "<IPython.core.display.HTML object>"
      ]
     },
     "metadata": {},
     "output_type": "display_data"
    },
    {
     "data": {
      "text/html": [
       "Syncing run <strong><a href='https://wandb.ai/christina-humer/MF-AL-GFN/runs/rbt5v1rx' target=\"_blank\">4336476 - 18/03-05:45:08</a></strong> to <a href='https://wandb.ai/christina-humer/MF-AL-GFN' target=\"_blank\">Weights & Biases</a> (<a href='https://wandb.me/run' target=\"_blank\">docs</a>)<br/>"
      ],
      "text/plain": [
       "<IPython.core.display.HTML object>"
      ]
     },
     "metadata": {},
     "output_type": "display_data"
    },
    {
     "data": {
      "text/html": [
       " View project at <a href='https://wandb.ai/christina-humer/MF-AL-GFN' target=\"_blank\">https://wandb.ai/christina-humer/MF-AL-GFN</a>"
      ],
      "text/plain": [
       "<IPython.core.display.HTML object>"
      ]
     },
     "metadata": {},
     "output_type": "display_data"
    },
    {
     "data": {
      "text/html": [
       " View run at <a href='https://wandb.ai/christina-humer/MF-AL-GFN/runs/rbt5v1rx' target=\"_blank\">https://wandb.ai/christina-humer/MF-AL-GFN/runs/rbt5v1rx</a>"
      ],
      "text/plain": [
       "<IPython.core.display.HTML object>"
      ]
     },
     "metadata": {},
     "output_type": "display_data"
    }
   ],
   "source": [
    "from utils.logger import Logger\n",
    "logger = Logger(\n",
    "    config=OmegaConf.create(), \n",
    "    **config_logger\n",
    ")"
   ]
  },
  {
   "cell_type": "code",
   "execution_count": null,
   "metadata": {},
   "outputs": [],
   "source": []
  },
  {
   "cell_type": "code",
   "execution_count": 5,
   "metadata": {},
   "outputs": [
    {
     "name": "stderr",
     "output_type": "stream",
     "text": [
      "/tmp/ipykernel_2070751/2068918033.py:11: UserWarning: To copy construct from a tensor, it is recommended to use sourceTensor.clone().detach() or sourceTensor.clone().detach().requires_grad_(True), rather than torch.tensor(sourceTensor).\n",
      "  states = torch.tensor(states/grid_size).to(device)\n"
     ]
    },
    {
     "data": {
      "text/plain": [
       "tensor([ -35.8619, -185.1583, -282.1307, -167.8297], device='cuda:0',\n",
       "       dtype=torch.float64)"
      ]
     },
     "execution_count": 5,
     "metadata": {},
     "output_type": "execute_result"
    }
   ],
   "source": [
    "# oracle\n",
    "from gflownet.proxy.box.branin import Branin\n",
    "oracle = Branin(fidelity=1, do_domain_map=True, device=device, float_precision=64)\n",
    "\n",
    "# test oracle\n",
    "grid_size = 100\n",
    "states = torch.tensor([[ 0,  7],\n",
    "        [ 1, 41],\n",
    "        [43,  0],\n",
    "        [83, 84]])\n",
    "states = torch.tensor(states/grid_size).to(device)\n",
    "oracle(states.clone())"
   ]
  },
  {
   "cell_type": "code",
   "execution_count": 6,
   "metadata": {},
   "outputs": [
    {
     "data": {
      "image/png": "[encoded data removed]",
      "text/plain": [
       "<Figure size 640x480 with 2 Axes>"
      ]
     },
     "metadata": {},
     "output_type": "display_data"
    }
   ],
   "source": [
    "# plot oracle function\n",
    "import numpy as np\n",
    "import matplotlib.pyplot as plt\n",
    "import torch\n",
    "xi = np.arange(0,1,1/grid_size)\n",
    "yi = np.arange(0,1,1/grid_size)\n",
    "grid = np.array(np.meshgrid(xi,yi))\n",
    "grid_flat = torch.tensor(grid.T, dtype=torch.float).reshape(-1,2).to(device)\n",
    "res = oracle(grid_flat).to(\"cpu\")\n",
    "fig, ax = plt.subplots(nrows=1)\n",
    "# ax.matshow(res)\n",
    "# https://matplotlib.org/stable/gallery/images_contours_and_fields/irregulardatagrid.html#sphx-glr-gallery-images-contours-and-fields-irregulardatagrid-py\n",
    "cntr = ax.contourf(xi, yi, res.reshape(int(len(res)**(1/2)),int(len(res)**(1/2))), levels=50)\n",
    "fig.colorbar(cntr, ax=ax)\n",
    "plt.scatter(x=states[:,0].cpu(), y=states[:,1].cpu(), c=\"red\", marker=\"x\")\n",
    "plt.show()"
   ]
  },
  {
   "cell_type": "code",
   "execution_count": null,
   "metadata": {},
   "outputs": [],
   "source": []
  },
  {
   "cell_type": "code",
   "execution_count": null,
   "metadata": {},
   "outputs": [],
   "source": []
  },
  {
   "cell_type": "code",
   "execution_count": null,
   "metadata": {},
   "outputs": [],
   "source": []
  },
  {
   "cell_type": "code",
   "execution_count": 10,
   "metadata": {},
   "outputs": [],
   "source": [
    "# # environment\n",
    "# import config\n",
    "# train = config.env.BufferSpec(\n",
    "#     path=\"~/scratch/datasets/grid/corners_d2l3_r0.csv\",\n",
    "#     seed=167,\n",
    "#     n=1000,\n",
    "# )\n",
    "# test = config.env.BufferSpec(\n",
    "#     path=\"~/scratch/datasets/grid/corners_d2l3_r0.csv\",\n",
    "#     seed=167,\n",
    "#     n=1000,\n",
    "# )\n",
    "# buffer = config.env.Buffer(train=train, test=test)\n",
    "# config_env = config.env.Grid_Env(\n",
    "#     buffer, \n",
    "#     min_step_len=1,\n",
    "#     max_step_len=1,\n",
    "#     cell_min=-1,\n",
    "#     cell_max=1\n",
    "# )\n",
    "\n",
    "# from environment.grid_env import GridEnv\n",
    "# env = GridEnv(**config_env.__dict__)"
   ]
  }
 ],
 "metadata": {
  "kernelspec": {
   "display_name": "Python 3",
   "language": "python",
   "name": "python3"
  },
  "language_info": {
   "codemirror_mode": {
    "name": "ipython",
    "version": 3
   },
   "file_extension": ".py",
   "mimetype": "text/x-python",
   "name": "python",
   "nbconvert_exporter": "python",
   "pygments_lexer": "ipython3",
   "version": "3.10.13"
  }
 },
 "nbformat": 4,
 "nbformat_minor": 2
}
