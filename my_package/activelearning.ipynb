{
 "cells": [
  {
   "cell_type": "code",
   "execution_count": 1,
   "metadata": {},
   "outputs": [
    {
     "data": {
      "text/plain": [
       "True"
      ]
     },
     "execution_count": 1,
     "metadata": {},
     "output_type": "execute_result"
    }
   ],
   "source": [
    "import torch\n",
    "torch.cuda.is_available()"
   ]
  },
  {
   "cell_type": "code",
   "execution_count": 1,
   "metadata": {},
   "outputs": [],
   "source": [
    "import sys\n",
    "import random\n",
    "import os\n",
    "import torch\n",
    "import matplotlib.pyplot as plt\n",
    "import numpy as np\n",
    "import pickle"
   ]
  },
  {
   "cell_type": "code",
   "execution_count": 7,
   "metadata": {},
   "outputs": [],
   "source": [
    "# # Load Hydra config in notebooks\n",
    "# # https://github.com/facebookresearch/hydra/blob/main/examples/jupyter_notebooks/compose_configs_in_notebook.ipynb\n",
    "# import os\n",
    "# from hydra import initialize_config_dir, compose\n",
    "# from hydra.core.config_store import ConfigStore\n",
    "# from omegaconf import OmegaConf\n",
    "# from config import Grid_Environment\n",
    "\n",
    "## cs = ConfigStore.instance()\n",
    "## cs.store(name=\"env\", node=Grid_Environment)\n",
    "\n",
    "# abs_config_dir=os.path.abspath(\"config/\")\n",
    "# with initialize_config_dir(version_base=None, config_dir=abs_config_dir):\n",
    "#     config_env = compose(config_name=\"env.yaml\", overrides=[])\n",
    "#     # print(OmegaConf.to_yaml(env_config))\n",
    "#     print(config_env)"
   ]
  },
  {
   "cell_type": "code",
   "execution_count": 16,
   "metadata": {},
   "outputs": [],
   "source": [
    "# environment\n",
    "import config\n",
    "train = config.env.BufferSpec(\n",
    "    path=\"~/scratch/datasets/grid/corners_d2l3_r0.csv\",\n",
    "    seed=167,\n",
    "    n=1000,\n",
    ")\n",
    "test = config.env.BufferSpec(\n",
    "    path=\"~/scratch/datasets/grid/corners_d2l3_r0.csv\",\n",
    "    seed=167,\n",
    "    n=1000,\n",
    ")\n",
    "buffer = config.env.Buffer(train=train, test=test)\n",
    "config_env = config.env.Grid_Env(\n",
    "    buffer, \n",
    "    min_step_len=1,\n",
    "    max_step_len=1,\n",
    "    cell_min=-1,\n",
    "    cell_max=1\n",
    ")\n",
    "\n",
    "from environment.grid_env import GridEnv\n",
    "env = GridEnv(**config_env.__dict__)"
   ]
  },
  {
   "cell_type": "code",
   "execution_count": 17,
   "metadata": {},
   "outputs": [],
   "source": []
  },
  {
   "cell_type": "code",
   "execution_count": null,
   "metadata": {},
   "outputs": [],
   "source": []
  }
 ],
 "metadata": {
  "kernelspec": {
   "display_name": "Python 3",
   "language": "python",
   "name": "python3"
  },
  "language_info": {
   "codemirror_mode": {
    "name": "ipython",
    "version": 3
   },
   "file_extension": ".py",
   "mimetype": "text/x-python",
   "name": "python",
   "nbconvert_exporter": "python",
   "pygments_lexer": "ipython3",
   "version": "3.10.13"
  }
 },
 "nbformat": 4,
 "nbformat_minor": 2
}
