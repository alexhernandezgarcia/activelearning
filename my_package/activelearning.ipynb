{
 "cells": [
  {
   "cell_type": "markdown",
   "metadata": {},
   "source": [
    "# Test Hydra Config"
   ]
  },
  {
   "cell_type": "code",
   "execution_count": 1,
   "metadata": {},
   "outputs": [],
   "source": [
    "# Load Hydra config in notebooks\n",
    "# https://github.com/facebookresearch/hydra/blob/main/examples/jupyter_notebooks/compose_configs_in_notebook.ipynb\n",
    "import os\n",
    "from hydra import initialize_config_dir, compose\n",
    "import hydra\n",
    "from omegaconf import OmegaConf\n",
    "\n",
    "abs_config_dir = os.path.abspath(\"config/\")"
   ]
  },
  {
   "cell_type": "code",
   "execution_count": 7,
   "metadata": {},
   "outputs": [
    {
     "name": "stdout",
     "output_type": "stream",
     "text": [
      "{'device': 'cuda', 'float_precision': 64, 'budget': 5, 'n_samples': 3, 'seed': 31415, 'maximize': False, 'dataset': {'_target_': 'dataset.dataset.BraninDatasetHandler', 'grid_size': 10, 'normalize_scores': True, 'train_fraction': 1.0, 'batch_size': 16, 'shuffle': True, 'train_path': 'storage/branin/data_10_train.csv', 'test_path': None}, 'oracle': {'_target_': 'gflownet.proxy.box.branin.Branin', 'fidelity': '1,', 'do_domain_map': True}, 'filter': {'_target_': 'filter.filter.Filter'}, 'logger': {'_target_': 'utils.logger.Logger', 'do': {'online': True, 'times': True}, 'project_name': 'MF-AL-GFN', 'train': {'period': 1}, 'test': {'first_it': True, 'period': 100, 'n': 100, 'kde': {'bandwidth': 0.1, 'kernel': 'gaussian'}, 'n_top_k': 5000, 'top_k': 100, 'top_k_period': -1, 'n_trajs_logprobs': 10, 'logprobs_batch_size': 100, 'logprobs_bootstrap_size': 10000, 'max_data_logprobs': 100000.0}, 'oracle': {'period': 100000, 'k': [1, 10, 100]}, 'context': '0', 'notes': None, 'ckpts': {'policy': {'period': 5000}, 'regressor': {'period': 10}}, 'logdir': {'root': './logs', 'ckpts': 'ckpts', 'data': 'data', 'overwrite': True}, 'lightweight': False, 'progress': True, 'debug': False, 'tags': ['branin', 'sf']}, 'sampler': {'_target_': 'sampler.sampler.GreedySampler'}, 'surrogate': {'_target_': 'surrogate.surrogate.SingleTaskGPRegressor'}, 'user': {'logdir': {'root': '~/activelearning/logs'}, 'data': {'root': '~/activelearning/data'}}}\n"
     ]
    },
    {
     "data": {
      "text/plain": [
       "<sampler.sampler.GreedySampler at 0x7fce6c4d7160>"
      ]
     },
     "execution_count": 7,
     "metadata": {},
     "output_type": "execute_result"
    }
   ],
   "source": [
    "\n",
    "with initialize_config_dir(version_base=None, config_dir=abs_config_dir):\n",
    "    config = compose(config_name=\"main.yaml\", overrides=[])\n",
    "    # print(OmegaConf.to_yaml(env_config))\n",
    "    print(config)\n",
    "\n",
    "dataset = hydra.utils.instantiate(\n",
    "    config.dataset,\n",
    "    float_precision=config.float_precision,\n",
    ")\n",
    "\n",
    "oracle = hydra.utils.instantiate(\n",
    "    config.oracle,\n",
    "    device=config.device,\n",
    "    float_precision=config.float_precision,\n",
    ")\n",
    "\n",
    "filter = hydra.utils.instantiate(\n",
    "    config.filter,\n",
    "    oracle=oracle,\n",
    ")\n",
    "\n",
    "surrogate = hydra.utils.instantiate(\n",
    "    config.surrogate,\n",
    "    device=config.device,\n",
    "    float_precision=config.float_precision,\n",
    "    maximize=config.maximize,\n",
    ")\n",
    "\n",
    "sampler = hydra.utils.instantiate(\n",
    "    config.sampler,\n",
    "    surrogate=surrogate,\n",
    ")\n",
    "sampler"
   ]
  },
  {
   "cell_type": "code",
   "execution_count": null,
   "metadata": {},
   "outputs": [],
   "source": []
  },
  {
   "cell_type": "markdown",
   "metadata": {},
   "source": [
    "# Active Learning Loop"
   ]
  },
  {
   "cell_type": "code",
   "execution_count": 1,
   "metadata": {},
   "outputs": [
    {
     "name": "stdout",
     "output_type": "stream",
     "text": [
      "dataset:\n",
      "  _target_: dataset.grid.BraninDatasetHandler\n",
      "  grid_size: 100\n",
      "  normalize_scores: true\n",
      "  train_fraction: 1.0\n",
      "  batch_size: 16\n",
      "  shuffle: true\n",
      "  train_path: ~/activelearning/my_package/storage/branin/data_100_train.csv\n",
      "  test_path: null\n",
      "oracle:\n",
      "  _target_: oracle.oracle.Branin\n",
      "  fidelity: 1\n",
      "  do_domain_map: true\n",
      "filter:\n",
      "  _target_: filter.filter.ScoreFilter\n",
      "sampler:\n",
      "  _target_: my_package.sampler.sampler.RandomSampler\n",
      "  conf:\n",
      "    agent:\n",
      "      random_action_prob: 0.0\n",
      "      optimizer:\n",
      "        lr: 0.0005\n",
      "        n_train_steps: 5000\n",
      "    logger:\n",
      "      do:\n",
      "        online: true\n",
      "      project_name: test_gflownet\n",
      "      run_name: identity_lr5e-4\n",
      "    env:\n",
      "      length: 100\n",
      "      cell_min: 0\n",
      "      cell_max: 0.99\n",
      "      reward_func: power\n",
      "      reward_min: 1.0e-08\n",
      "      reward_beta: 1.0\n",
      "      reward_norm: 1.0\n",
      "surrogate:\n",
      "  _target_: surrogate.surrogate.SingleTaskGPRegressor\n",
      "user:\n",
      "  logdir:\n",
      "    root: activelearning/logs\n",
      "  data:\n",
      "    root: activelearning/data\n",
      "device: cpu\n",
      "float_precision: 32\n",
      "budget: 10\n",
      "n_samples: 5\n",
      "seed: 31415\n",
      "maximize: false\n",
      "\n",
      "{'dataset': {'_target_': 'dataset.grid.BraninDatasetHandler', 'grid_size': 100, 'normalize_scores': True, 'train_fraction': 1.0, 'batch_size': 16, 'shuffle': True, 'train_path': '~/activelearning/my_package/storage/branin/data_100_train.csv', 'test_path': None}, 'oracle': {'_target_': 'oracle.oracle.Branin', 'fidelity': 1, 'do_domain_map': True}, 'filter': {'_target_': 'filter.filter.ScoreFilter'}, 'sampler': {'_target_': 'my_package.sampler.sampler.RandomSampler', 'conf': {'agent': {'random_action_prob': 0.0, 'optimizer': {'lr': 0.0005, 'n_train_steps': 5000}}, 'logger': {'do': {'online': True}, 'project_name': 'test_gflownet', 'run_name': 'identity_lr5e-4'}, 'env': {'length': 100, 'cell_min': 0, 'cell_max': 0.99, 'reward_func': 'power', 'reward_min': 1e-08, 'reward_beta': 1.0, 'reward_norm': 1.0}}}, 'surrogate': {'_target_': 'surrogate.surrogate.SingleTaskGPRegressor'}, 'user': {'logdir': {'root': 'activelearning/logs'}, 'data': {'root': 'activelearning/data'}}, 'device': 'cpu', 'float_precision': 32, 'budget': 10, 'n_samples': 5, 'seed': 31415, 'maximize': False}\n"
     ]
    },
    {
     "name": "stderr",
     "output_type": "stream",
     "text": [
      "/home/mila/c/christina.humer/.conda/envs/al_new/lib/python3.10/site-packages/hydra/_internal/defaults_list.py:251: UserWarning: In 'test.yaml': Defaults list is missing `_self_`. See https://hydra.cc/docs/1.2/upgrades/1.0_to_1.1/default_composition_order for more information\n",
      "  warnings.warn(msg, UserWarning)\n"
     ]
    }
   ],
   "source": [
    "# Load Hydra config in notebooks\n",
    "# https://github.com/facebookresearch/hydra/blob/main/examples/jupyter_notebooks/compose_configs_in_notebook.ipynb\n",
    "import os\n",
    "from hydra import initialize_config_dir, compose\n",
    "import hydra\n",
    "from omegaconf import OmegaConf\n",
    "abs_config_dir = os.path.abspath(\"config/\")\n",
    "\n",
    "with initialize_config_dir(version_base=None, config_dir=abs_config_dir):\n",
    "    config = compose(config_name=\"test.yaml\", overrides=[])\n",
    "    print(OmegaConf.to_yaml(config))\n",
    "    print(config)\n",
    "\n",
    "config.sampler.conf.logger.do.online = False"
   ]
  },
  {
   "cell_type": "code",
   "execution_count": 6,
   "metadata": {},
   "outputs": [],
   "source": [
    "import torch\n",
    "# device = \"cuda\" if torch.cuda.is_available() else \"cpu\"\n",
    "device = config.device\n",
    "n_iterations = config.budget  # TODO: replace with budget\n",
    "grid_size = config.dataset.grid_size\n",
    "n_samples = config.n_samples\n",
    "maximize = config.maximize\n",
    "\n",
    "from gflownet.utils.common import set_float_precision\n",
    "float_prec = set_float_precision(config.float_precision)\n",
    "\n",
    "import matplotlib.colors as cm\n",
    "import matplotlib.pyplot as plt\n",
    "# colors = [\"red\", \"blue\", \"green\", \"orange\", \"brown\", \"pink\"]\n",
    "colors = plt.get_cmap(\"Reds\")"
   ]
  },
  {
   "cell_type": "code",
   "execution_count": 7,
   "metadata": {},
   "outputs": [
    {
     "data": {
      "text/html": [
       "Finishing last run (ID:0btpf9d6) before initializing another..."
      ],
      "text/plain": [
       "<IPython.core.display.HTML object>"
      ]
     },
     "metadata": {},
     "output_type": "display_data"
    },
    {
     "name": "stderr",
     "output_type": "stream",
     "text": [
      "wandb: WARNING Source type is set to 'repo' but some required information is missing from the environment. A job will not be created from this run. See https://docs.wandb.ai/guides/launch/create-job\n"
     ]
    },
    {
     "data": {
      "application/vnd.jupyter.widget-view+json": {
       "model_id": "80a397b3b1da495ca477d629a2be148a",
       "version_major": 2,
       "version_minor": 0
      },
      "text/plain": [
       "VBox(children=(Label(value='0.439 MB of 0.439 MB uploaded\\r'), FloatProgress(value=1.0, max=1.0)))"
      ]
     },
     "metadata": {},
     "output_type": "display_data"
    },
    {
     "data": {
      "text/html": [
       "<style>\n",
       "    table.wandb td:nth-child(1) { padding: 0 10px; text-align: left ; width: auto;} td:nth-child(2) {text-align: left ; width: 100%}\n",
       "    .wandb-row { display: flex; flex-direction: row; flex-wrap: wrap; justify-content: flex-start; width: 100% }\n",
       "    .wandb-col { display: flex; flex-direction: column; flex-basis: 100%; flex: 1; padding: 10px; }\n",
       "    </style>\n",
       "<div class=\"wandb-row\"><div class=\"wandb-col\"><h3>Run history:</h3><br/><table class=\"wandb\"><tr><td>best_score</td><td>▁▆▂█▂▅▄▁▁▂</td></tr></table><br/></div><div class=\"wandb-col\"><h3>Run summary:</h3><br/><table class=\"wandb\"><tr><td>best_score</td><td>-307.09503</td></tr></table><br/></div></div>"
      ],
      "text/plain": [
       "<IPython.core.display.HTML object>"
      ]
     },
     "metadata": {},
     "output_type": "display_data"
    },
    {
     "data": {
      "text/html": [
       " View run <strong style=\"color:#cdcd00\">Random 100x100 acqfilter</strong> at: <a href='https://wandb.ai/christina-humer/test_plotting/runs/0btpf9d6' target=\"_blank\">https://wandb.ai/christina-humer/test_plotting/runs/0btpf9d6</a><br/>Synced 5 W&B file(s), 12 media file(s), 0 artifact file(s) and 0 other file(s)"
      ],
      "text/plain": [
       "<IPython.core.display.HTML object>"
      ]
     },
     "metadata": {},
     "output_type": "display_data"
    },
    {
     "data": {
      "text/html": [
       "Find logs at: <code>./wandb/run-20240329_024143-0btpf9d6/logs</code>"
      ],
      "text/plain": [
       "<IPython.core.display.HTML object>"
      ]
     },
     "metadata": {},
     "output_type": "display_data"
    },
    {
     "data": {
      "text/html": [
       "Successfully finished last run (ID:0btpf9d6). Initializing new run:<br/>"
      ],
      "text/plain": [
       "<IPython.core.display.HTML object>"
      ]
     },
     "metadata": {},
     "output_type": "display_data"
    },
    {
     "data": {
      "application/vnd.jupyter.widget-view+json": {
       "model_id": "ae9ab1fe24db4004818248da01374c65",
       "version_major": 2,
       "version_minor": 0
      },
      "text/plain": [
       "VBox(children=(Label(value='Waiting for wandb.init()...\\r'), FloatProgress(value=0.011112352802107732, max=1.0…"
      ]
     },
     "metadata": {},
     "output_type": "display_data"
    },
    {
     "data": {
      "text/html": [
       "wandb version 0.16.5 is available!  To upgrade, please run:\n",
       " $ pip install wandb --upgrade"
      ],
      "text/plain": [
       "<IPython.core.display.HTML object>"
      ]
     },
     "metadata": {},
     "output_type": "display_data"
    },
    {
     "data": {
      "text/html": [
       "Tracking run with wandb version 0.16.4"
      ],
      "text/plain": [
       "<IPython.core.display.HTML object>"
      ]
     },
     "metadata": {},
     "output_type": "display_data"
    },
    {
     "data": {
      "text/html": [
       "Run data is saved locally in <code>/home/mila/c/christina.humer/activelearning/my_package/wandb/run-20240329_024543-kqytfqw1</code>"
      ],
      "text/plain": [
       "<IPython.core.display.HTML object>"
      ]
     },
     "metadata": {},
     "output_type": "display_data"
    },
    {
     "data": {
      "text/html": [
       "Syncing run <strong><a href='https://wandb.ai/christina-humer/test_plotting/runs/kqytfqw1' target=\"_blank\">Greedy 100x100 acqfilter</a></strong> to <a href='https://wandb.ai/christina-humer/test_plotting' target=\"_blank\">Weights & Biases</a> (<a href='https://wandb.me/run' target=\"_blank\">docs</a>)<br/>"
      ],
      "text/plain": [
       "<IPython.core.display.HTML object>"
      ]
     },
     "metadata": {},
     "output_type": "display_data"
    },
    {
     "data": {
      "text/html": [
       " View project at <a href='https://wandb.ai/christina-humer/test_plotting' target=\"_blank\">https://wandb.ai/christina-humer/test_plotting</a>"
      ],
      "text/plain": [
       "<IPython.core.display.HTML object>"
      ]
     },
     "metadata": {},
     "output_type": "display_data"
    },
    {
     "data": {
      "text/html": [
       " View run at <a href='https://wandb.ai/christina-humer/test_plotting/runs/kqytfqw1' target=\"_blank\">https://wandb.ai/christina-humer/test_plotting/runs/kqytfqw1</a>"
      ],
      "text/plain": [
       "<IPython.core.display.HTML object>"
      ]
     },
     "metadata": {},
     "output_type": "display_data"
    }
   ],
   "source": [
    "from utils.logger import WandBLogger\n",
    "logger = WandBLogger(project_name=\"test_plotting\", run_name=\"Greedy 100x100 acqfilter\")\n",
    "\n",
    "from utils.plotter import PlotHelper\n",
    "plotter = PlotHelper(logger)\n",
    "# plotter = PlotHelper()"
   ]
  },
  {
   "cell_type": "code",
   "execution_count": 8,
   "metadata": {},
   "outputs": [
    {
     "name": "stderr",
     "output_type": "stream",
     "text": [
      "/home/mila/c/christina.humer/.conda/envs/al_new/lib/python3.10/site-packages/botorch/models/gp_regression.py:161: UserWarning: The model inputs are of type torch.float32. It is strongly recommended to use double precision in BoTorch, as this improves both precision and stability and can help avoid numerical errors. See https://github.com/pytorch/botorch/discussions/1444\n",
      "  self._validate_tensor_args(X=transformed_X, Y=train_Y, Yvar=train_Yvar)\n",
      "/home/mila/c/christina.humer/.conda/envs/al_new/lib/python3.10/site-packages/botorch/models/gp_regression.py:161: UserWarning: The model inputs are of type torch.float32. It is strongly recommended to use double precision in BoTorch, as this improves both precision and stability and can help avoid numerical errors. See https://github.com/pytorch/botorch/discussions/1444\n",
      "  self._validate_tensor_args(X=transformed_X, Y=train_Y, Yvar=train_Yvar)\n",
      "/home/mila/c/christina.humer/.conda/envs/al_new/lib/python3.10/site-packages/botorch/models/gp_regression.py:161: UserWarning: The model inputs are of type torch.float32. It is strongly recommended to use double precision in BoTorch, as this improves both precision and stability and can help avoid numerical errors. See https://github.com/pytorch/botorch/discussions/1444\n",
      "  self._validate_tensor_args(X=transformed_X, Y=train_Y, Yvar=train_Yvar)\n",
      "/home/mila/c/christina.humer/.conda/envs/al_new/lib/python3.10/site-packages/botorch/models/gp_regression.py:161: UserWarning: The model inputs are of type torch.float32. It is strongly recommended to use double precision in BoTorch, as this improves both precision and stability and can help avoid numerical errors. See https://github.com/pytorch/botorch/discussions/1444\n",
      "  self._validate_tensor_args(X=transformed_X, Y=train_Y, Yvar=train_Yvar)\n",
      "/home/mila/c/christina.humer/.conda/envs/al_new/lib/python3.10/site-packages/botorch/models/gp_regression.py:161: UserWarning: The model inputs are of type torch.float32. It is strongly recommended to use double precision in BoTorch, as this improves both precision and stability and can help avoid numerical errors. See https://github.com/pytorch/botorch/discussions/1444\n",
      "  self._validate_tensor_args(X=transformed_X, Y=train_Y, Yvar=train_Yvar)\n",
      "/home/mila/c/christina.humer/.conda/envs/al_new/lib/python3.10/site-packages/botorch/models/gp_regression.py:161: UserWarning: The model inputs are of type torch.float32. It is strongly recommended to use double precision in BoTorch, as this improves both precision and stability and can help avoid numerical errors. See https://github.com/pytorch/botorch/discussions/1444\n",
      "  self._validate_tensor_args(X=transformed_X, Y=train_Y, Yvar=train_Yvar)\n",
      "/home/mila/c/christina.humer/.conda/envs/al_new/lib/python3.10/site-packages/botorch/models/gp_regression.py:161: UserWarning: The model inputs are of type torch.float32. It is strongly recommended to use double precision in BoTorch, as this improves both precision and stability and can help avoid numerical errors. See https://github.com/pytorch/botorch/discussions/1444\n",
      "  self._validate_tensor_args(X=transformed_X, Y=train_Y, Yvar=train_Yvar)\n",
      "/home/mila/c/christina.humer/.conda/envs/al_new/lib/python3.10/site-packages/botorch/models/gp_regression.py:161: UserWarning: The model inputs are of type torch.float32. It is strongly recommended to use double precision in BoTorch, as this improves both precision and stability and can help avoid numerical errors. See https://github.com/pytorch/botorch/discussions/1444\n",
      "  self._validate_tensor_args(X=transformed_X, Y=train_Y, Yvar=train_Yvar)\n",
      "/home/mila/c/christina.humer/.conda/envs/al_new/lib/python3.10/site-packages/botorch/models/gp_regression.py:161: UserWarning: The model inputs are of type torch.float32. It is strongly recommended to use double precision in BoTorch, as this improves both precision and stability and can help avoid numerical errors. See https://github.com/pytorch/botorch/discussions/1444\n",
      "  self._validate_tensor_args(X=transformed_X, Y=train_Y, Yvar=train_Yvar)\n",
      "/home/mila/c/christina.humer/.conda/envs/al_new/lib/python3.10/site-packages/botorch/models/gp_regression.py:161: UserWarning: The model inputs are of type torch.float32. It is strongly recommended to use double precision in BoTorch, as this improves both precision and stability and can help avoid numerical errors. See https://github.com/pytorch/botorch/discussions/1444\n",
      "  self._validate_tensor_args(X=transformed_X, Y=train_Y, Yvar=train_Yvar)\n",
      "/home/mila/c/christina.humer/.conda/envs/al_new/lib/python3.10/site-packages/gpytorch/distributions/multivariate_normal.py:319: NumericalWarning: Negative variance values detected. This is likely due to numerical instabilities. Rounding negative variances up to 1e-06.\n",
      "  warnings.warn(\n"
     ]
    }
   ],
   "source": [
    "from dataset.grid import BraninDatasetHandler\n",
    "from surrogate.surrogate import SingleTaskGPRegressor\n",
    "from sampler.sampler import GreedySampler, RandomSampler\n",
    "from filter.filter import Filter, ScoreFilter\n",
    "from oracle.oracle import BraninOracle\n",
    "\n",
    "\n",
    "# Dataset\n",
    "dataset_handler = BraninDatasetHandler(\n",
    "    grid_size=grid_size,\n",
    "    train_path=\"./storage/branin/data_%i_train.csv\" % grid_size,\n",
    "    train_fraction=1.0,\n",
    "    float_precision=float_prec,\n",
    ")\n",
    "\n",
    "candidate_set, xi, yi = dataset_handler.get_candidate_set()\n",
    "\n",
    "# Oracle\n",
    "oracle = BraninOracle(\n",
    "    fidelity=1, do_domain_map=True, device=device, float_precision=float_prec\n",
    ")\n",
    "\n",
    "if plotter is not None:\n",
    "    fig_oracle, ax_oracle = plotter.plot_function(oracle, candidate_set.clone().to(device), xi=xi, yi=yi)\n",
    "\n",
    "\n",
    "best_scores = []\n",
    "\n",
    "for i in range(n_iterations):\n",
    "\n",
    "    train_data, test_data = dataset_handler.get_dataloader()\n",
    "    # print(\"iteration\", i)\n",
    "    # Surrogate (e.g., Bayesian Optimization)\n",
    "    # starts with a clean slate each iteration\n",
    "    surrogate = SingleTaskGPRegressor(\n",
    "        float_precision=float_prec, device=device, maximize=maximize\n",
    "    )\n",
    "    surrogate.fit(train_data)\n",
    "\n",
    "    # Filter\n",
    "    # filter = Filter()\n",
    "    filter = ScoreFilter(surrogate.get_acquisition_values)\n",
    "\n",
    "    # Sampler (e.g., GFlowNet, or Random Sampler)\n",
    "    # also starts with a clean slate; TODO: experiment with NOT training from scratch\n",
    "    # sampler = RandomSampler(surrogate)\n",
    "    sampler = GreedySampler(surrogate)\n",
    "    # sampler = hydra.utils.instantiate(\n",
    "    #     config.sampler,\n",
    "    #     surrogate=surrogate,\n",
    "    #     device=device,\n",
    "    #     float_precision=float_prec,\n",
    "    #     _recursive_=False,\n",
    "    # )\n",
    "\n",
    "    sampler.fit()  # only necessary for samplers that train a model\n",
    "\n",
    "    samples = sampler.get_samples(\n",
    "        n_samples * 5, candidate_set=candidate_set.clone().to(device)\n",
    "    )\n",
    "    \n",
    "    if plotter is not None and hasattr(sampler, \"sampler\"):\n",
    "        def reward_fn(samples):\n",
    "            return sampler.sampler.env.proxy2reward(sampler.sampler.env.proxy(samples))\n",
    "        fig_reward, ax_reward = plotter.plot_function(reward_fn, candidate_set.clone().to(device), xi=xi, yi=yi)\n",
    "        fig_reward, ax_reward = plotter.plot_samples(samples, ax_reward, fig_reward)\n",
    "        ax_reward.set_title(\"reward fn + proposed samples of iteration %i\"%i)\n",
    "        plotter.log_figure(fig_reward, \"reward\")\n",
    "\n",
    "    filtered_samples = filter(\n",
    "        n_samples=n_samples, candidate_set=samples.clone()\n",
    "    )\n",
    "    \n",
    "    if plotter is not None:\n",
    "        fig_acq, ax_acq = plotter.plot_function(surrogate, candidate_set.clone().to(device), xi=xi, yi=yi)\n",
    "        fig_acq, ax_acq = plotter.plot_samples(filtered_samples, ax_acq, fig_acq)\n",
    "        ax_acq.set_title(\"acquisition fn + selected samples of iteration %i\"%i)\n",
    "        plotter.log_figure(fig_acq, \"acq\")\n",
    "    \n",
    "\n",
    "    if ax_oracle is not None:\n",
    "        ax_oracle.scatter(\n",
    "            x=filtered_samples[:, 0].cpu(),\n",
    "            y=filtered_samples[:, 1].cpu(),\n",
    "            c=cm.to_hex(colors(i / n_iterations)),\n",
    "            marker=\"x\",\n",
    "            label=\"it %i\" % i,\n",
    "        )\n",
    "\n",
    "    scores = oracle(filtered_samples.clone())\n",
    "    dataset_handler.update_dataset(filtered_samples.cpu(), scores.cpu())\n",
    "    best_scores.append(scores.min().cpu())\n",
    "    if logger is not None:\n",
    "        logger.log_metric(scores.min().cpu(), \"best_score\")\n",
    "\n",
    "if ax_oracle is not None:\n",
    "    fig_oracle.legend()\n",
    "    ax_oracle.set_title(\"oracle fn + samples\")\n",
    "    plotter.log_figure(fig_oracle, key=\"oracle\")\n",
    "\n",
    "\n",
    "fig = plt.figure()\n",
    "plt.plot(best_scores)\n",
    "plt.xlabel(\"iterations\")\n",
    "plt.ylabel(\"scores\")\n",
    "plt.title(\"Best Score in each iteration\")\n",
    "if plotter is not None:\n",
    "    plotter.log_figure(fig, key=\"best_scores\")\n"
   ]
  },
  {
   "cell_type": "code",
   "execution_count": null,
   "metadata": {},
   "outputs": [],
   "source": []
  },
  {
   "cell_type": "markdown",
   "metadata": {},
   "source": [
    "# Test individual components"
   ]
  },
  {
   "cell_type": "code",
   "execution_count": 2,
   "metadata": {},
   "outputs": [
    {
     "name": "stdout",
     "output_type": "stream",
     "text": [
      "cuda\n"
     ]
    }
   ],
   "source": [
    "import os\n",
    "\n",
    "# os.environ['CUDA_LAUNCH_BLOCKING'] = \"1\"\n",
    "\n",
    "import torch\n",
    "\n",
    "device = \"cuda\" if torch.cuda.is_available() else \"cpu\"\n",
    "# device = \"cpu\"\n",
    "print(device)\n",
    "\n",
    "\n",
    "from gflownet.utils.common import set_float_precision\n",
    "float_prec = set_float_precision(64)\n",
    "# float_prec = torch.double\n",
    "\n",
    "import numpy as np\n",
    "grid_size = 10  # 100\n",
    "test_states = torch.tensor([[0.5, 0.5]])\n",
    "test_scores = torch.tensor([-150.0])\n",
    "n_samples = 5\n",
    "\n",
    "baseline_states = torch.tensor(\n",
    "    [\n",
    "        [0.0 * grid_size, 0.0 * grid_size],\n",
    "        [0.0 * grid_size, 0.4 * grid_size],\n",
    "        [0.4 * grid_size, 0.0 * grid_size],\n",
    "        [0.8 * grid_size, 0.8 * grid_size],\n",
    "    ]\n",
    ")\n",
    "\n",
    "# define grid space\n",
    "xi = np.arange(0, 1, 1 / grid_size)\n",
    "yi = np.arange(0, 1, 1 / grid_size)\n",
    "grid = np.array(np.meshgrid(xi, yi))\n",
    "grid_flat = torch.tensor(grid.T, dtype=float_prec).reshape(-1, 2).to(device)"
   ]
  },
  {
   "cell_type": "code",
   "execution_count": 3,
   "metadata": {},
   "outputs": [
    {
     "name": "stdout",
     "output_type": "stream",
     "text": [
      "tensor([[0., 0.],\n",
      "        [0., 4.],\n",
      "        [4., 0.],\n",
      "        [8., 8.],\n",
      "        [5., 5.]], dtype=torch.float64) tensor([  -0.8709, -171.1192, -273.2218, -174.8874, -150.0000],\n",
      "       dtype=torch.float64)\n",
      "(tensor([[0.0000, 0.0000],\n",
      "        [0.0000, 0.4000],\n",
      "        [0.4000, 0.0000],\n",
      "        [0.8000, 0.8000],\n",
      "        [0.5000, 0.5000]], dtype=torch.float64), tensor([1.0000, 0.3749, 0.0000, 0.3611, 0.4524], dtype=torch.float64))\n",
      "tensor([[0.4000, 0.0000],\n",
      "        [0.0000, 0.0000],\n",
      "        [0.0000, 0.4000],\n",
      "        [0.5000, 0.5000],\n",
      "        [0.8000, 0.8000]], dtype=torch.float64) tensor([0.0000, 1.0000, 0.3749, 0.4524, 0.3611], dtype=torch.float64)\n"
     ]
    }
   ],
   "source": [
    "# dataset\n",
    "from dataset.dataset import BraninDatasetHandler\n",
    "\n",
    "dataset_handler = BraninDatasetHandler(\n",
    "    grid_size=grid_size,\n",
    "    train_path=\"./storage/branin/data_%i_train.csv\" % grid_size,\n",
    "    train_fraction=1.0,\n",
    "    float_precision=float_prec,\n",
    ")\n",
    "\n",
    "# testing dataset\n",
    "dataset_handler.update_dataset(test_states, test_scores)\n",
    "print(dataset_handler.train_data.X_data, dataset_handler.train_data.y_data)\n",
    "print(dataset_handler.train_data[:])\n",
    "train_loader, test_loader = dataset_handler.get_dataloader()\n",
    "for X, y in train_loader:\n",
    "    print(X, y)"
   ]
  },
  {
   "cell_type": "code",
   "execution_count": 4,
   "metadata": {},
   "outputs": [
    {
     "name": "stdout",
     "output_type": "stream",
     "text": [
      "tensor([  -0.8709, -171.1192, -273.2218, -174.8874], device='cuda:0',\n",
      "       dtype=torch.float64)\n"
     ]
    },
    {
     "data": {
      "image/png": "[encoded data removed]",
      "text/plain": [
       "<Figure size 640x480 with 2 Axes>"
      ]
     },
     "metadata": {},
     "output_type": "display_data"
    }
   ],
   "source": [
    "# Oracle\n",
    "from gflownet.proxy.box.branin import Branin\n",
    "\n",
    "oracle = Branin(fidelity=1, do_domain_map=True, device=device, float_precision=float_prec)\n",
    "\n",
    "# testing oracle\n",
    "print(oracle(baseline_states.to(device).clone() / grid_size))\n",
    "\n",
    "# plot oracle function\n",
    "plot_function(oracle, grid_flat.clone(), scatter_markers=baseline_states / grid_size)\n",
    "plt.title(\"Oracle function\")\n",
    "plt.show()"
   ]
  },
  {
   "cell_type": "code",
   "execution_count": 5,
   "metadata": {},
   "outputs": [
    {
     "name": "stdout",
     "output_type": "stream",
     "text": [
      "tensor([-0.4285], device='cuda:0', dtype=torch.float64) tensor([0.1735], device='cuda:0', dtype=torch.float64)\n"
     ]
    },
    {
     "data": {
      "image/png": "[encoded data removed]",
      "text/plain": [
       "<Figure size 1500x400 with 6 Axes>"
      ]
     },
     "metadata": {},
     "output_type": "display_data"
    }
   ],
   "source": [
    "# Surrogate (e.g., Bayesian Optimization)\n",
    "from surrogate.surrogate import SingleTaskGPRegressor\n",
    "\n",
    "surrogate = SingleTaskGPRegressor(device=device, float_precision=float_prec, maximize=False)\n",
    "train_data, test_data = dataset_handler.get_dataloader()\n",
    "surrogate.fit(train_data)\n",
    "\n",
    "# testing surrogate\n",
    "preds_mean, preds_var = surrogate.get_predictions(test_states / grid_size)\n",
    "print(preds_mean, preds_var)\n",
    "\n",
    "# plot surrogate functions\n",
    "fig, axes = plt.subplots(ncols=3, figsize=(15, 4))\n",
    "\n",
    "plot_function(\n",
    "    surrogate.get_predictions,\n",
    "    grid_flat.clone(),\n",
    "    fig=fig,\n",
    "    ax=axes[0],\n",
    "    scatter_markers=baseline_states / grid_size,\n",
    "    output_index=0,\n",
    ")\n",
    "axes[0].set_title(\"estimated mean\")\n",
    "\n",
    "plot_function(\n",
    "    surrogate.get_predictions,\n",
    "    grid_flat.clone(),\n",
    "    fig=fig,\n",
    "    ax=axes[1],\n",
    "    scatter_markers=baseline_states / grid_size,\n",
    "    output_index=1,\n",
    ")\n",
    "axes[1].set_title(\"uncertainty\")\n",
    "\n",
    "plot_function(\n",
    "    surrogate.get_acquisition_values,\n",
    "    grid_flat.clone(),\n",
    "    fig=fig,\n",
    "    ax=axes[2],\n",
    "    scatter_markers=baseline_states / grid_size,\n",
    ")\n",
    "axes[2].set_title(\"acquisition function\")\n",
    "\n",
    "fig.suptitle(\"Surrogate Model\")\n",
    "plt.show()"
   ]
  },
  {
   "cell_type": "code",
   "execution_count": 6,
   "metadata": {},
   "outputs": [
    {
     "data": {
      "image/png": "[encoded data removed]",
      "text/plain": [
       "<Figure size 640x480 with 2 Axes>"
      ]
     },
     "metadata": {},
     "output_type": "display_data"
    }
   ],
   "source": [
    "# Sampler (e.g., GFlowNet, or Random Sampler)\n",
    "from sampler.sampler import GreedySampler, RandomSampler\n",
    "\n",
    "sampler = GreedySampler(surrogate)\n",
    "# sampler = RandomSampler(surrogate)\n",
    "sampler.fit()\n",
    "samples = sampler.get_samples(n_samples * 3, grid_flat.clone()).cpu()\n",
    "\n",
    "# plot acq function with proposed candidates\n",
    "fig, ax = plot_function(\n",
    "    surrogate.get_acquisition_values, grid_flat.clone(), scatter_markers=samples\n",
    ")\n",
    "plt.title(\"Samples\")\n",
    "plt.show()"
   ]
  },
  {
   "cell_type": "code",
   "execution_count": 7,
   "metadata": {},
   "outputs": [
    {
     "data": {
      "text/plain": [
       "<matplotlib.collections.PathCollection at 0x7f3b7fb9e8c0>"
      ]
     },
     "execution_count": 7,
     "metadata": {},
     "output_type": "execute_result"
    },
    {
     "data": {
      "image/png": "[encoded data removed]",
      "text/plain": [
       "<Figure size 480x480 with 1 Axes>"
      ]
     },
     "metadata": {},
     "output_type": "display_data"
    }
   ],
   "source": [
    "acq = surrogate.get_acquisition_values(grid_flat.clone()).detach().cpu()\n",
    "plt.matshow(acq.reshape(int(len(acq) ** (1 / 2)), int(len(acq) ** (1 / 2))))\n",
    "plt.scatter(samples.cpu()[:, 1] * grid_size, samples.cpu()[:, 0] * grid_size)\n",
    "plt.scatter(baseline_states[:, 1].cpu(), baseline_states[:, 0].cpu())"
   ]
  },
  {
   "cell_type": "code",
   "execution_count": 8,
   "metadata": {},
   "outputs": [
    {
     "data": {
      "image/png": "[encoded data removed]",
      "text/plain": [
       "<Figure size 640x480 with 2 Axes>"
      ]
     },
     "metadata": {},
     "output_type": "display_data"
    }
   ],
   "source": [
    "from filter.filter import Filter, ScoreFilter\n",
    "\n",
    "filter = Filter()\n",
    "# filter = OracleFilter(oracle)\n",
    "filtered_samples = filter(n_samples, samples)\n",
    "\n",
    "# plot oracle function with proposed candidates\n",
    "fig, ax = plot_function(\n",
    "    surrogate.get_acquisition_values,\n",
    "    grid_flat.clone(),\n",
    "    scatter_markers=filtered_samples.to(\"cpu\"),\n",
    ")\n",
    "plt.title(\"Proposed Candidates\")\n",
    "plt.show()"
   ]
  },
  {
   "cell_type": "code",
   "execution_count": null,
   "metadata": {},
   "outputs": [],
   "source": []
  },
  {
   "cell_type": "code",
   "execution_count": null,
   "metadata": {},
   "outputs": [],
   "source": []
  },
  {
   "cell_type": "code",
   "execution_count": null,
   "metadata": {},
   "outputs": [],
   "source": []
  },
  {
   "cell_type": "markdown",
   "metadata": {},
   "source": [
    "# GFlowNet Sampler"
   ]
  },
  {
   "cell_type": "code",
   "execution_count": 9,
   "metadata": {},
   "outputs": [],
   "source": [
    "import torch\n",
    "float_prec = torch.float32\n",
    "device = \"cpu\"\n",
    "grid_size = 10"
   ]
  },
  {
   "cell_type": "code",
   "execution_count": 10,
   "metadata": {},
   "outputs": [],
   "source": [
    "# dataset\n",
    "from dataset.dataset import BraninDatasetHandler\n",
    "\n",
    "dataset_handler = BraninDatasetHandler(\n",
    "    grid_size=grid_size,\n",
    "    train_path=\"./storage/branin/data_%i_train.csv\" % grid_size,\n",
    "    train_fraction=1.0,\n",
    "    float_precision=float_prec,\n",
    ")\n"
   ]
  },
  {
   "cell_type": "code",
   "execution_count": 11,
   "metadata": {},
   "outputs": [
    {
     "name": "stdout",
     "output_type": "stream",
     "text": [
      "[tensor([[0.0000, 0.4000],\n",
      "        [0.0000, 0.0000],\n",
      "        [0.4000, 0.0000],\n",
      "        [0.8000, 0.8000]]), tensor([0.3749, 1.0000, 0.0000, 0.3611])]\n"
     ]
    }
   ],
   "source": [
    "train_data, _ = dataset_handler.get_dataloader()\n",
    "for r in train_data:\n",
    "    print(r)"
   ]
  },
  {
   "cell_type": "code",
   "execution_count": 12,
   "metadata": {},
   "outputs": [
    {
     "name": "stderr",
     "output_type": "stream",
     "text": [
      "/home/mila/c/christina.humer/.conda/envs/al_new/lib/python3.10/site-packages/botorch/models/gp_regression.py:161: UserWarning: The model inputs are of type torch.float32. It is strongly recommended to use double precision in BoTorch, as this improves both precision and stability and can help avoid numerical errors. See https://github.com/pytorch/botorch/discussions/1444\n",
      "  self._validate_tensor_args(X=transformed_X, Y=train_Y, Yvar=train_Yvar)\n"
     ]
    }
   ],
   "source": [
    "from importlib import reload  # Python 3.4+\n",
    "import surrogate.surrogate as surrogate\n",
    "\n",
    "reload(surrogate)\n",
    "\n",
    "from surrogate.surrogate import SingleTaskGPRegressor\n",
    "\n",
    "surrogate = SingleTaskGPRegressor(device=device, float_precision=float_prec, maximize=False)\n",
    "train_data, test_data = dataset_handler.get_dataloader()\n",
    "surrogate.fit(train_data)"
   ]
  },
  {
   "cell_type": "code",
   "execution_count": 16,
   "metadata": {},
   "outputs": [],
   "source": [
    "# Load Hydra config in notebooks\n",
    "# https://github.com/facebookresearch/hydra/blob/main/examples/jupyter_notebooks/compose_configs_in_notebook.ipynb\n",
    "import os\n",
    "from hydra import initialize_config_dir, compose\n",
    "import hydra\n",
    "from omegaconf import OmegaConf\n",
    "\n",
    "abs_config_dir = os.path.abspath(\"config/\")\n"
   ]
  },
  {
   "cell_type": "code",
   "execution_count": 17,
   "metadata": {},
   "outputs": [
    {
     "name": "stdout",
     "output_type": "stream",
     "text": [
      "{'logger': {'_target_': 'gflownet.utils.logger.Logger', 'do': {'online': False, 'times': False}, 'project_name': 'GFlowNet', 'train': {'period': 1}, 'test': {'first_it': True, 'period': 100, 'n': 100, 'kde': {'bandwidth': 0.1, 'kernel': 'gaussian'}, 'n_top_k': 5000, 'top_k': 100, 'top_k_period': -1, 'n_trajs_logprobs': 10, 'logprobs_batch_size': 100, 'logprobs_bootstrap_size': 10000, 'max_data_logprobs': 100000.0}, 'oracle': {'period': 100000, 'k': [1, 10, 100]}, 'checkpoints': {'period': 1000}, 'logdir': {'root': './logs', 'ckpts': 'ckpts', 'overwrite': True}, 'debug': False, 'lightweight': False, 'progress': True, 'context': '0', 'notes': None, 'tags': ['gflownet']}}\n"
     ]
    }
   ],
   "source": [
    "with initialize_config_dir(version_base=None, config_dir=abs_config_dir):\n",
    "    config_logger = compose(config_name=\"logger/wandb.yaml\", overrides=[])\n",
    "    # print(OmegaConf.to_yaml(env_config))\n",
    "    print(config_logger)\n",
    "\n",
    "logger = hydra.utils.instantiate(config_logger.logger, config_logger, _recursive_=False)"
   ]
  },
  {
   "cell_type": "code",
   "execution_count": 15,
   "metadata": {},
   "outputs": [
    {
     "name": "stdout",
     "output_type": "stream",
     "text": [
      "{'logger': {'_target_': 'gflownet.utils.logger.Logger', 'do': {'online': False, 'times': False}, 'project_name': 'GFlowNet', 'train': {'period': 1}, 'test': {'first_it': True, 'period': 100, 'n': 100, 'kde': {'bandwidth': 0.1, 'kernel': 'gaussian'}, 'n_top_k': 5000, 'top_k': 100, 'top_k_period': -1, 'n_trajs_logprobs': 10, 'logprobs_batch_size': 100, 'logprobs_bootstrap_size': 10000, 'max_data_logprobs': 100000.0}, 'oracle': {'period': 100000, 'k': [1, 10, 100]}, 'checkpoints': {'period': 1000}, 'logdir': {'root': './logs', 'ckpts': 'ckpts', 'overwrite': True}, 'debug': False, 'lightweight': False, 'progress': True, 'context': '0', 'notes': None, 'tags': ['gflownet']}}\n",
      "{'sampler': {'conf': {'state_flow': None, 'policy': {'forward': {'_target_': 'gflownet.policy.base.Policy', 'config': {'type': 'mlp', 'n_hid': 128, 'n_layers': 2, 'checkpoint': None, 'reload_ckpt': False, 'is_model': False}}, 'backward': {'_target_': 'gflownet.policy.base.Policy', 'config': None}, 'shared': None}, 'env': {'_target_': 'gflownet.envs.grid.Grid', 'id': 'grid', 'func': 'corners', 'n_dim': 2, 'length': 10, 'max_increment': 1, 'max_dim_per_action': 1, 'cell_min': 0, 'cell_max': 0.9, 'buffer': {'data_path': None, 'train': None, 'test': {'type': 'all', 'output_csv': 'grid_test.csv', 'output_pkl': 'grid_test.pkl'}}, 'reward_func': 'identity', 'reward_min': 1e-08, 'reward_beta': 1.0, 'reward_norm': 1.0, 'reward_norm_std_mult': 0.0, 'proxy_state_format': 'oracle', 'skip_mask_check': False, 'conditional': False, 'continuous': False}, 'agent': {'_target_': 'gflownet.gflownet.GFlowNetAgent', 'seed': 0, 'optimizer': {'z_dim': 16, 'loss': 'trajectorybalance', 'lr': 0.0001, 'lr_decay_period': 1000000, 'lr_decay_gamma': 0.5, 'lr_z_mult': 100, 'method': 'adam', 'early_stopping': 0.0, 'ema_alpha': 0.5, 'adam_beta1': 0.9, 'adam_beta2': 0.999, 'sgd_momentum': 0.9, 'batch_size': {'forward': 10, 'backward_dataset': 0, 'backward_replay': 0}, 'train_to_sample_ratio': 1, 'n_train_steps': 1000, 'bootstrap_tau': 0.0, 'clip_grad_norm': 0.0}, 'batch_reward': True, 'mask_invalid_actions': True, 'temperature_logits': 1.0, 'random_action_prob': 0.0, 'pct_offline': 0.0, 'replay_capacity': 0, 'replay_sampling': 'permutation', 'train_sampling': 'permutation', 'num_empirical_loss': 200000, 'oracle': {'n': 500}, 'sample_only': False, 'active_learning': False, 'buffer': {'train': {'path': None, 'n': None, 'type': None, 'seed': None, 'output_csv': None}, 'test': {'path': None, 'type': 'all', 'output_pkl': 'buffer_data_test.csv', 'n': None, 'seed': None, 'output_csv': None}}}}, '_target_': 'sampler.sampler.GFlowNetSampler', '_recursive_': False}}\n"
     ]
    },
    {
     "name": "stderr",
     "output_type": "stream",
     "text": [
      "/home/mila/c/christina.humer/.conda/envs/al_new/lib/python3.10/site-packages/hydra/_internal/defaults_list.py:251: UserWarning: In 'sampler/gflownet.yaml': Defaults list is missing `_self_`. See https://hydra.cc/docs/1.2/upgrades/1.0_to_1.1/default_composition_order for more information\n",
      "  warnings.warn(msg, UserWarning)\n"
     ]
    },
    {
     "name": "stdout",
     "output_type": "stream",
     "text": [
      "\n",
      "            Important: offline trajectories will NOT be sampled. In order to sample\n",
      "            offline trajectories, the train configuration of the buffer should be\n",
      "            complete and feasible and an output pkl file should be defined in\n",
      "            env.buffer.train.output_pkl.\n",
      "            \n",
      "\n",
      "Constructing data set \n",
      "Test data\n",
      "\tMean score: 0.021786538063499405\n",
      "\tStd score: 0.015443492875630887\n",
      "\tMin score: 0.0\n",
      "\tMax score: 0.04475913196802139\n"
     ]
    }
   ],
   "source": [
    "with initialize_config_dir(version_base=None, config_dir=abs_config_dir):\n",
    "    config_logger = compose(config_name=\"logger/wandb.yaml\", overrides=[])\n",
    "    # print(OmegaConf.to_yaml(env_config))\n",
    "    print(config_logger)\n",
    "\n",
    "# Logger\n",
    "# from utils.logger import Logger\n",
    "\n",
    "# logger = Logger(config=OmegaConf.create(), **config_logger)\n",
    "logger = hydra.utils.instantiate(config_logger.logger, config_logger, _recursive_=False)\n",
    "\n",
    "with initialize_config_dir(version_base=None, config_dir=abs_config_dir):\n",
    "    config_sampler = compose(config_name=\"sampler/gflownet.yaml\", overrides=[])\n",
    "    # print(OmegaConf.to_yaml(config_sampler))\n",
    "    print(config_sampler)\n",
    "\n",
    "grid_env = hydra.utils.instantiate(\n",
    "    config_sampler.sampler.conf.env,\n",
    "    proxy=surrogate,\n",
    "    device=device,\n",
    "    float_precision=float_prec,\n",
    ")\n",
    "\n",
    "# The policy is used to model the probability of a forward/backward action\n",
    "forward_policy = hydra.utils.instantiate(\n",
    "    config_sampler.sampler.conf.policy.forward,\n",
    "    env=grid_env,\n",
    "    device=device,\n",
    "    float_precision=float_prec,\n",
    ")\n",
    "backward_policy = hydra.utils.instantiate(\n",
    "    config_sampler.sampler.conf.policy.backward,\n",
    "    env=grid_env,\n",
    "    device=device,\n",
    "    float_precision=float_prec,\n",
    ")\n",
    "\n",
    "# State flow\n",
    "if config_sampler.sampler.conf.state_flow is not None:\n",
    "    state_flow = hydra.utils.instantiate(\n",
    "        config_sampler.sampler.conf.state_flow,\n",
    "        env=grid_env,\n",
    "        device=device,\n",
    "        float_precision=float_prec,\n",
    "        base=forward_policy,\n",
    "    )\n",
    "else:\n",
    "    state_flow = None\n",
    "\n",
    "# GFlowNet Agent\n",
    "sampler = hydra.utils.instantiate(\n",
    "    config_sampler.sampler.conf.agent,\n",
    "    device=device,\n",
    "    float_precision=float_prec,\n",
    "    env=grid_env,\n",
    "    forward_policy=forward_policy,\n",
    "    backward_policy=backward_policy,\n",
    "    state_flow=state_flow,\n",
    "    buffer=config_sampler.sampler.conf.env.buffer,\n",
    "    logger=logger,\n",
    ")"
   ]
  },
  {
   "cell_type": "code",
   "execution_count": 22,
   "metadata": {},
   "outputs": [
    {
     "name": "stderr",
     "output_type": "stream",
     "text": [
      "  0%|          | 0/2000 [00:00<?, ?it/s]"
     ]
    },
    {
     "name": "stdout",
     "output_type": "stream",
     "text": [
      "Compute logprobs...\n",
      "Sampling backward actions from test data to estimate logprobs...\n"
     ]
    },
    {
     "name": "stderr",
     "output_type": "stream",
     "text": []
    },
    {
     "name": "stdout",
     "output_type": "stream",
     "text": [
      "Done computing logprobs\n"
     ]
    },
    {
     "name": "stderr",
     "output_type": "stream",
     "text": [
      "  0%|          | 0/100 [00:03<?, ?it/s]\n",
      "/home/mila/c/christina.humer/.conda/envs/al_new/lib/python3.10/site-packages/numpy/lib/function_base.py:2897: RuntimeWarning: invalid value encountered in divide\n",
      "  c /= stddev[:, None]\n",
      "/home/mila/c/christina.humer/.conda/envs/al_new/lib/python3.10/site-packages/numpy/lib/function_base.py:2898: RuntimeWarning: invalid value encountered in divide\n",
      "  c /= stddev[None, :]\n",
      "Loss: 1267.0955 | Mean rewards: 0.00 | JSD: 0.4480:   5%|▍         | 99/2000 [00:10<02:00, 15.75it/s] "
     ]
    },
    {
     "name": "stdout",
     "output_type": "stream",
     "text": [
      "Compute logprobs...\n",
      "Sampling backward actions from test data to estimate logprobs...\n"
     ]
    },
    {
     "name": "stderr",
     "output_type": "stream",
     "text": []
    },
    {
     "name": "stdout",
     "output_type": "stream",
     "text": [
      "Done computing logprobs\n"
     ]
    },
    {
     "name": "stderr",
     "output_type": "stream",
     "text": [
      "  0%|          | 0/100 [00:03<?, ?it/s]\n",
      "Loss: 566.4079 | Mean rewards: 0.00 | JSD: 0.4863:  10%|▉         | 197/2000 [00:21<02:17, 13.15it/s] "
     ]
    },
    {
     "name": "stdout",
     "output_type": "stream",
     "text": [
      "Compute logprobs...\n",
      "Sampling backward actions from test data to estimate logprobs...\n"
     ]
    },
    {
     "name": "stderr",
     "output_type": "stream",
     "text": []
    },
    {
     "name": "stdout",
     "output_type": "stream",
     "text": [
      "Done computing logprobs\n"
     ]
    },
    {
     "name": "stderr",
     "output_type": "stream",
     "text": [
      "  0%|          | 0/100 [00:03<?, ?it/s]\n",
      "Loss: 217.5760 | Mean rewards: 0.00 | JSD: 0.4857:  15%|█▍        | 298/2000 [00:31<01:54, 14.90it/s]"
     ]
    },
    {
     "name": "stdout",
     "output_type": "stream",
     "text": [
      "Compute logprobs...\n",
      "Sampling backward actions from test data to estimate logprobs...\n"
     ]
    },
    {
     "name": "stderr",
     "output_type": "stream",
     "text": []
    },
    {
     "name": "stdout",
     "output_type": "stream",
     "text": [
      "Done computing logprobs\n"
     ]
    },
    {
     "name": "stderr",
     "output_type": "stream",
     "text": [
      "  0%|          | 0/100 [00:03<?, ?it/s]\n",
      "Loss: 75.5657 | Mean rewards: 0.00 | JSD: 0.4819:  20%|█▉        | 398/2000 [00:43<02:26, 10.93it/s] "
     ]
    },
    {
     "name": "stdout",
     "output_type": "stream",
     "text": [
      "Compute logprobs...\n",
      "Sampling backward actions from test data to estimate logprobs...\n"
     ]
    },
    {
     "name": "stderr",
     "output_type": "stream",
     "text": []
    },
    {
     "name": "stdout",
     "output_type": "stream",
     "text": [
      "Done computing logprobs\n"
     ]
    },
    {
     "name": "stderr",
     "output_type": "stream",
     "text": [
      "  0%|          | 0/100 [00:03<?, ?it/s]\n",
      "Loss: 22.4302 | Mean rewards: 0.00 | JSD: 0.4736:  25%|██▍       | 497/2000 [00:53<01:47, 13.96it/s]"
     ]
    },
    {
     "name": "stdout",
     "output_type": "stream",
     "text": [
      "Compute logprobs...\n",
      "Sampling backward actions from test data to estimate logprobs...\n"
     ]
    },
    {
     "name": "stderr",
     "output_type": "stream",
     "text": []
    },
    {
     "name": "stdout",
     "output_type": "stream",
     "text": [
      "Done computing logprobs\n"
     ]
    },
    {
     "name": "stderr",
     "output_type": "stream",
     "text": [
      "  0%|          | 0/100 [00:03<?, ?it/s]\n",
      "Loss: 6.7583 | Mean rewards: 0.00 | JSD: 0.4414:  30%|██▉       | 598/2000 [01:04<01:39, 14.04it/s] "
     ]
    },
    {
     "name": "stdout",
     "output_type": "stream",
     "text": [
      "Compute logprobs...\n",
      "Sampling backward actions from test data to estimate logprobs...\n"
     ]
    },
    {
     "name": "stderr",
     "output_type": "stream",
     "text": []
    },
    {
     "name": "stdout",
     "output_type": "stream",
     "text": [
      "Done computing logprobs\n"
     ]
    },
    {
     "name": "stderr",
     "output_type": "stream",
     "text": [
      "  0%|          | 0/100 [00:03<?, ?it/s]\n",
      "Loss: 2.7254 | Mean rewards: 0.00 | JSD: 0.4417:  35%|███▍      | 699/2000 [01:15<02:10,  9.98it/s]"
     ]
    },
    {
     "name": "stdout",
     "output_type": "stream",
     "text": [
      "Compute logprobs...\n",
      "Sampling backward actions from test data to estimate logprobs...\n"
     ]
    },
    {
     "name": "stderr",
     "output_type": "stream",
     "text": []
    },
    {
     "name": "stdout",
     "output_type": "stream",
     "text": [
      "Done computing logprobs\n"
     ]
    },
    {
     "name": "stderr",
     "output_type": "stream",
     "text": [
      "  0%|          | 0/100 [00:03<?, ?it/s]\n",
      "Loss: 1.9886 | Mean rewards: 0.00 | JSD: 0.4118:  40%|███▉      | 799/2000 [01:26<01:16, 15.62it/s]"
     ]
    },
    {
     "name": "stdout",
     "output_type": "stream",
     "text": [
      "Compute logprobs...\n",
      "Sampling backward actions from test data to estimate logprobs...\n"
     ]
    },
    {
     "name": "stderr",
     "output_type": "stream",
     "text": []
    },
    {
     "name": "stdout",
     "output_type": "stream",
     "text": [
      "Done computing logprobs\n"
     ]
    },
    {
     "name": "stderr",
     "output_type": "stream",
     "text": [
      "  0%|          | 0/100 [00:03<?, ?it/s]\n",
      "Loss: 1.4535 | Mean rewards: 0.00 | JSD: 0.3518:  45%|████▍     | 899/2000 [01:38<01:13, 15.07it/s]"
     ]
    },
    {
     "name": "stdout",
     "output_type": "stream",
     "text": [
      "Compute logprobs...\n",
      "Sampling backward actions from test data to estimate logprobs...\n"
     ]
    },
    {
     "name": "stderr",
     "output_type": "stream",
     "text": []
    },
    {
     "name": "stdout",
     "output_type": "stream",
     "text": [
      "Done computing logprobs\n"
     ]
    },
    {
     "name": "stderr",
     "output_type": "stream",
     "text": [
      "  0%|          | 0/100 [00:03<?, ?it/s]\n",
      "Loss: 1.0444 | Mean rewards: 0.00 | JSD: 0.2900:  50%|████▉     | 998/2000 [01:50<01:27, 11.44it/s]"
     ]
    },
    {
     "name": "stdout",
     "output_type": "stream",
     "text": [
      "Compute logprobs...\n",
      "Sampling backward actions from test data to estimate logprobs...\n"
     ]
    },
    {
     "name": "stderr",
     "output_type": "stream",
     "text": []
    },
    {
     "name": "stdout",
     "output_type": "stream",
     "text": [
      "Done computing logprobs\n"
     ]
    },
    {
     "name": "stderr",
     "output_type": "stream",
     "text": [
      "  0%|          | 0/100 [00:03<?, ?it/s]\n",
      "Loss: 0.9461 | Mean rewards: 0.00 | JSD: 0.2765:  55%|█████▍    | 1099/2000 [02:02<01:15, 11.95it/s]"
     ]
    },
    {
     "name": "stdout",
     "output_type": "stream",
     "text": [
      "Compute logprobs...\n",
      "Sampling backward actions from test data to estimate logprobs...\n"
     ]
    },
    {
     "name": "stderr",
     "output_type": "stream",
     "text": []
    },
    {
     "name": "stdout",
     "output_type": "stream",
     "text": [
      "Done computing logprobs\n"
     ]
    },
    {
     "name": "stderr",
     "output_type": "stream",
     "text": [
      "  0%|          | 0/100 [00:03<?, ?it/s]\n",
      "Loss: 0.8774 | Mean rewards: 0.00 | JSD: 0.2417:  60%|█████▉    | 1199/2000 [02:15<01:04, 12.48it/s]"
     ]
    },
    {
     "name": "stdout",
     "output_type": "stream",
     "text": [
      "Compute logprobs...\n",
      "Sampling backward actions from test data to estimate logprobs...\n"
     ]
    },
    {
     "name": "stderr",
     "output_type": "stream",
     "text": []
    },
    {
     "name": "stdout",
     "output_type": "stream",
     "text": [
      "Done computing logprobs\n"
     ]
    },
    {
     "name": "stderr",
     "output_type": "stream",
     "text": [
      "  0%|          | 0/100 [00:03<?, ?it/s]\n",
      "Loss: 0.7211 | Mean rewards: 0.00 | JSD: 0.2304:  65%|██████▍   | 1298/2000 [02:27<00:53, 13.22it/s]"
     ]
    },
    {
     "name": "stdout",
     "output_type": "stream",
     "text": [
      "Compute logprobs...\n",
      "Sampling backward actions from test data to estimate logprobs...\n"
     ]
    },
    {
     "name": "stderr",
     "output_type": "stream",
     "text": []
    },
    {
     "name": "stdout",
     "output_type": "stream",
     "text": [
      "Done computing logprobs\n"
     ]
    },
    {
     "name": "stderr",
     "output_type": "stream",
     "text": [
      "  0%|          | 0/100 [00:03<?, ?it/s]\n",
      "Loss: 0.6952 | Mean rewards: 0.00 | JSD: 0.2176:  70%|██████▉   | 1398/2000 [02:39<00:52, 11.57it/s]"
     ]
    },
    {
     "name": "stdout",
     "output_type": "stream",
     "text": [
      "Compute logprobs...\n",
      "Sampling backward actions from test data to estimate logprobs...\n"
     ]
    },
    {
     "name": "stderr",
     "output_type": "stream",
     "text": []
    },
    {
     "name": "stdout",
     "output_type": "stream",
     "text": [
      "Done computing logprobs\n"
     ]
    },
    {
     "name": "stderr",
     "output_type": "stream",
     "text": [
      "  0%|          | 0/100 [00:03<?, ?it/s]\n",
      "Loss: 0.6248 | Mean rewards: 0.00 | JSD: 0.1933:  75%|███████▍  | 1499/2000 [02:51<00:34, 14.39it/s]"
     ]
    },
    {
     "name": "stdout",
     "output_type": "stream",
     "text": [
      "Compute logprobs...\n",
      "Sampling backward actions from test data to estimate logprobs...\n"
     ]
    },
    {
     "name": "stderr",
     "output_type": "stream",
     "text": []
    },
    {
     "name": "stdout",
     "output_type": "stream",
     "text": [
      "Done computing logprobs\n"
     ]
    },
    {
     "name": "stderr",
     "output_type": "stream",
     "text": [
      "  0%|          | 0/100 [00:03<?, ?it/s]\n",
      "Loss: 0.4038 | Mean rewards: 0.00 | JSD: 0.2149:  80%|███████▉  | 1599/2000 [03:03<00:31, 12.73it/s]"
     ]
    },
    {
     "name": "stdout",
     "output_type": "stream",
     "text": [
      "Compute logprobs...\n",
      "Sampling backward actions from test data to estimate logprobs...\n"
     ]
    },
    {
     "name": "stderr",
     "output_type": "stream",
     "text": []
    },
    {
     "name": "stdout",
     "output_type": "stream",
     "text": [
      "Done computing logprobs\n"
     ]
    },
    {
     "name": "stderr",
     "output_type": "stream",
     "text": [
      "  0%|          | 0/100 [00:03<?, ?it/s]\n",
      "Loss: 0.3274 | Mean rewards: 0.00 | JSD: 0.2172:  85%|████████▍ | 1698/2000 [03:16<00:23, 13.06it/s]"
     ]
    },
    {
     "name": "stdout",
     "output_type": "stream",
     "text": [
      "Compute logprobs...\n",
      "Sampling backward actions from test data to estimate logprobs...\n"
     ]
    },
    {
     "name": "stderr",
     "output_type": "stream",
     "text": []
    },
    {
     "name": "stdout",
     "output_type": "stream",
     "text": [
      "Done computing logprobs\n"
     ]
    },
    {
     "name": "stderr",
     "output_type": "stream",
     "text": [
      "  0%|          | 0/100 [00:03<?, ?it/s]\n",
      "Loss: 0.2406 | Mean rewards: 0.00 | JSD: 0.1974:  90%|████████▉ | 1798/2000 [03:28<00:14, 14.28it/s]"
     ]
    },
    {
     "name": "stdout",
     "output_type": "stream",
     "text": [
      "Compute logprobs...\n",
      "Sampling backward actions from test data to estimate logprobs...\n"
     ]
    },
    {
     "name": "stderr",
     "output_type": "stream",
     "text": []
    },
    {
     "name": "stdout",
     "output_type": "stream",
     "text": [
      "Done computing logprobs\n"
     ]
    },
    {
     "name": "stderr",
     "output_type": "stream",
     "text": [
      "  0%|          | 0/100 [00:03<?, ?it/s]\n",
      "Loss: 0.1768 | Mean rewards: 0.00 | JSD: 0.1754:  95%|█████████▍| 1898/2000 [03:41<00:09, 11.07it/s]"
     ]
    },
    {
     "name": "stdout",
     "output_type": "stream",
     "text": [
      "Compute logprobs...\n",
      "Sampling backward actions from test data to estimate logprobs...\n"
     ]
    },
    {
     "name": "stderr",
     "output_type": "stream",
     "text": []
    },
    {
     "name": "stdout",
     "output_type": "stream",
     "text": [
      "Done computing logprobs\n"
     ]
    },
    {
     "name": "stderr",
     "output_type": "stream",
     "text": [
      "  0%|          | 0/100 [00:03<?, ?it/s]\n",
      "Loss: 0.1342 | Mean rewards: 0.00 | JSD: 0.1622: 100%|█████████▉| 1999/2000 [03:53<00:00, 12.17it/s]"
     ]
    },
    {
     "name": "stdout",
     "output_type": "stream",
     "text": [
      "Compute logprobs...\n",
      "Sampling backward actions from test data to estimate logprobs...\n"
     ]
    },
    {
     "name": "stderr",
     "output_type": "stream",
     "text": []
    },
    {
     "name": "stdout",
     "output_type": "stream",
     "text": [
      "Done computing logprobs\n"
     ]
    },
    {
     "name": "stderr",
     "output_type": "stream",
     "text": [
      "  0%|          | 0/100 [00:03<?, ?it/s]\n",
      "Loss: 0.1342 | Mean rewards: 0.00 | JSD: 0.1831: 100%|██████████| 2000/2000 [03:57<00:00,  8.43it/s]\n"
     ]
    }
   ],
   "source": [
    "sampler.train()"
   ]
  },
  {
   "cell_type": "code",
   "execution_count": 20,
   "metadata": {},
   "outputs": [],
   "source": [
    "batch, times = sampler.sample_batch(n_forward=10, train=False)"
   ]
  },
  {
   "cell_type": "code",
   "execution_count": 21,
   "metadata": {},
   "outputs": [
    {
     "data": {
      "text/plain": [
       "tensor([[0.0000, 0.0000],\n",
       "        [0.0000, 0.0000],\n",
       "        [0.0000, 0.0000],\n",
       "        [0.0000, 0.1111],\n",
       "        [0.1111, 0.0000],\n",
       "        [0.1111, 0.0000],\n",
       "        [0.1111, 0.1111],\n",
       "        [0.0000, 0.2222],\n",
       "        [0.2222, 0.1111],\n",
       "        [0.4444, 0.0000]])"
      ]
     },
     "execution_count": 21,
     "metadata": {},
     "output_type": "execute_result"
    }
   ],
   "source": [
    "batch.get_terminating_states(proxy=True)"
   ]
  },
  {
   "cell_type": "code",
   "execution_count": null,
   "metadata": {},
   "outputs": [],
   "source": [
    "sampler"
   ]
  },
  {
   "cell_type": "code",
   "execution_count": null,
   "metadata": {},
   "outputs": [],
   "source": []
  },
  {
   "cell_type": "code",
   "execution_count": 7,
   "metadata": {},
   "outputs": [
    {
     "name": "stdout",
     "output_type": "stream",
     "text": [
      "{'sampler': {'conf': {'state_flow': None, 'policy': {'forward': {'_target_': 'gflownet.policy.base.Policy', 'config': {'type': 'mlp', 'n_hid': 128, 'n_layers': 2, 'checkpoint': None, 'reload_ckpt': False, 'is_model': False}}, 'backward': {'_target_': 'gflownet.policy.base.Policy', 'config': None}, 'shared': None}, 'env': {'_target_': 'gflownet.envs.grid.Grid', 'id': 'grid', 'func': 'corners', 'n_dim': 2, 'length': 3, 'max_increment': 1, 'max_dim_per_action': 1, 'cell_min': -1, 'cell_max': 1, 'buffer': {'data_path': None, 'train': None, 'test': {'type': 'all', 'output_csv': 'grid_test.csv', 'output_pkl': 'grid_test.pkl'}}, 'reward_func': 'identity', 'reward_min': 1e-08, 'reward_beta': 1.0, 'reward_norm': 1.0, 'reward_norm_std_mult': 0.0, 'proxy_state_format': 'oracle', 'skip_mask_check': False, 'conditional': False, 'continuous': False}, 'agent': {'_target_': 'gflownet.gflownet.GFlowNetAgent', 'seed': 0, 'optimizer': {'z_dim': 16, 'loss': 'trajectorybalance', 'lr': 0.0001, 'lr_decay_period': 1000000, 'lr_decay_gamma': 0.5, 'lr_z_mult': 100, 'method': 'adam', 'early_stopping': 0.0, 'ema_alpha': 0.5, 'adam_beta1': 0.9, 'adam_beta2': 0.999, 'sgd_momentum': 0.9, 'batch_size': {'forward': 10, 'backward_dataset': 0, 'backward_replay': 0}, 'train_to_sample_ratio': 1, 'n_train_steps': 2000, 'bootstrap_tau': 0.0, 'clip_grad_norm': 0.0}, 'batch_reward': True, 'mask_invalid_actions': True, 'temperature_logits': 1.0, 'random_action_prob': 0.0, 'pct_offline': 0.0, 'replay_capacity': 0, 'replay_sampling': 'permutation', 'train_sampling': 'permutation', 'num_empirical_loss': 200000, 'oracle': {'n': 500}, 'sample_only': False, 'active_learning': False, 'buffer': {'train': {'path': None, 'n': None, 'type': None, 'seed': None, 'output_csv': None}, 'test': {'path': None, 'type': 'all', 'output_pkl': 'buffer_data_test.csv', 'n': None, 'seed': None, 'output_csv': None}}}}, '_target_': 'sampler.sampler.GFlowNetSampler', '_recursive_': False}}\n"
     ]
    },
    {
     "name": "stderr",
     "output_type": "stream",
     "text": [
      "/home/mila/c/christina.humer/.conda/envs/al_new/lib/python3.10/site-packages/hydra/_internal/defaults_list.py:251: UserWarning: In 'sampler/gflownet.yaml': Defaults list is missing `_self_`. See https://hydra.cc/docs/1.2/upgrades/1.0_to_1.1/default_composition_order for more information\n",
      "  warnings.warn(msg, UserWarning)\n"
     ]
    }
   ],
   "source": []
  },
  {
   "cell_type": "code",
   "execution_count": 8,
   "metadata": {},
   "outputs": [
    {
     "name": "stdout",
     "output_type": "stream",
     "text": [
      "init\n",
      "grid_env\n",
      "forward_policy\n",
      "backward_policy\n",
      "state_flow\n",
      "\n",
      "            Important: offline trajectories will NOT be sampled. In order to sample\n",
      "            offline trajectories, the train configuration of the buffer should be\n",
      "            complete and feasible and an output pkl file should be defined in\n",
      "            env.buffer.train.output_pkl.\n",
      "            \n",
      "\n",
      "Constructing data set \n",
      "Test data\n",
      "\tMean score: 0.1279197929739995\n",
      "\tStd score: 0.049022623362086445\n",
      "\tMin score: 4.1038751987798605e-06\n",
      "\tMax score: 0.15595106780529022\n"
     ]
    },
    {
     "data": {
      "text/plain": [
       "<sampler.sampler.GFlowNetSampler at 0x7feb50064bb0>"
      ]
     },
     "execution_count": 8,
     "metadata": {},
     "output_type": "execute_result"
    }
   ],
   "source": [
    "with initialize_config_dir(version_base=None, config_dir=abs_config_dir):\n",
    "    config_sampler = compose(config_name=\"sampler/gflownet.yaml\", overrides=[])\n",
    "    # print(OmegaConf.to_yaml(config_sampler))\n",
    "    print(config_sampler)\n",
    "    \n",
    "sampler = hydra.utils.instantiate(\n",
    "    config_sampler.sampler,\n",
    "    surrogate=surrogate,\n",
    "    logger=logger,\n",
    "    device=device,\n",
    "    float_precision=float_prec,\n",
    ")\n"
   ]
  },
  {
   "cell_type": "code",
   "execution_count": null,
   "metadata": {},
   "outputs": [],
   "source": [
    "samples = sampler.get_samples(n_samples * 3, grid_flat.clone()).cpu()\n",
    "\n",
    "# plot acq function with proposed candidates\n",
    "fig, ax = plot_function(\n",
    "    surrogate.get_acquisition_values, grid_flat.clone(), scatter_markers=samples\n",
    ")\n",
    "plt.title(\"Samples\")\n",
    "plt.show()"
   ]
  },
  {
   "cell_type": "code",
   "execution_count": 15,
   "metadata": {},
   "outputs": [
    {
     "name": "stdout",
     "output_type": "stream",
     "text": [
      "\n",
      "            Important: offline trajectories will NOT be sampled. In order to sample\n",
      "            offline trajectories, the train configuration of the buffer should be\n",
      "            complete and feasible and an output pkl file should be defined in\n",
      "            env.buffer.train.output_pkl.\n",
      "            \n",
      "\n",
      "Constructing data set \n",
      "Test data\n",
      "\tMean score: 0.12163516696963622\n",
      "\tStd score: 0.046829605458979205\n",
      "\tMin score: 4.2319362592024845e-07\n",
      "\tMax score: 0.1491968184709549\n"
     ]
    },
    {
     "data": {
      "text/plain": [
       "<sampler.sampler.GFlowNetSampler at 0x7f4f82f7c970>"
      ]
     },
     "execution_count": 15,
     "metadata": {},
     "output_type": "execute_result"
    }
   ],
   "source": [
    "from sampler.sampler import GFlowNetSampler\n",
    "\n",
    "sampler = GFlowNetSampler(surrogate, config_sampler, logger, device, float_prec)"
   ]
  },
  {
   "cell_type": "code",
   "execution_count": null,
   "metadata": {},
   "outputs": [],
   "source": []
  },
  {
   "cell_type": "code",
   "execution_count": null,
   "metadata": {},
   "outputs": [],
   "source": []
  },
  {
   "cell_type": "code",
   "execution_count": null,
   "metadata": {},
   "outputs": [],
   "source": []
  },
  {
   "cell_type": "code",
   "execution_count": null,
   "metadata": {},
   "outputs": [],
   "source": [
    "\n",
    "# Logger\n",
    "# from utils.logger import Logger\n",
    "\n",
    "# logger = Logger(config=OmegaConf.create(), **config_logger)"
   ]
  },
  {
   "cell_type": "code",
   "execution_count": null,
   "metadata": {},
   "outputs": [],
   "source": [
    "from gflownet.envs.grid import Grid as GFlowNetGridEnv\n",
    "\n",
    "grid_env = GFlowNetGridEnv(\n",
    "    n_dim=2,\n",
    "    length=grid_size,\n",
    "    max_increment=1,\n",
    "    max_dim_per_action=1,\n",
    "    cell_min=0,\n",
    "    cell_max=1,\n",
    "    proxy=surrogate,\n",
    "    reward_func=\"identity\",\n",
    ")"
   ]
  },
  {
   "cell_type": "code",
   "execution_count": 28,
   "metadata": {},
   "outputs": [
    {
     "name": "stdout",
     "output_type": "stream",
     "text": [
      "{'seed': 0, 'optimizer': {'z_dim': 16, 'loss': 'trajectorybalance', 'lr': 0.0001, 'lr_decay_period': 1000000, 'lr_decay_gamma': 0.5, 'lr_z_mult': 100, 'method': 'adam', 'early_stopping': 0.0, 'ema_alpha': 0.5, 'adam_beta1': 0.9, 'adam_beta2': 0.999, 'sgd_momentum': 0.9, 'batch_size': {'forward': 10, 'backward_dataset': 0, 'backward_replay': 0}, 'train_to_sample_ratio': 1, 'n_train_steps': 5000, 'bootstrap_tau': 0.0, 'clip_grad_norm': 0.0}, 'state_flow': None, 'batch_reward': True, 'mask_invalid_actions': True, 'temperature_logits': 1.0, 'random_action_prob': 0.0, 'pct_offline': 0.0, 'replay_capacity': 0, 'replay_sampling': 'permutation', 'train_sampling': 'permutation', 'num_empirical_loss': 200000, 'oracle': {'n': 500}, 'sample_only': False, 'active_learning': False, 'buffer': {'train': {'path': None, 'n': None, 'type': None, 'seed': None, 'output_csv': None}, 'test': {'path': None, 'type': 'all', 'output_pkl': 'buffer_data_test.csv', 'n': None, 'seed': None, 'output_csv': None}}, 'policy': {'forward': {'type': 'mlp', 'n_hid': 128, 'n_layers': 2, 'checkpoint': None, 'reload_ckpt': False, 'is_model': False}, 'backward': None, 'shared': None}}\n",
      "\n",
      "Constructing data set \n",
      "            Important: offline trajectories will NOT be sampled. In order to sample\n",
      "            offline trajectories, the train configuration of the buffer should be\n",
      "            complete and feasible and an output pkl file should be defined in\n",
      "            env.buffer.train.output_pkl.\n",
      "            \n",
      "\n",
      "Constructing data set \n",
      "Test data\n",
      "\tMean score: 0.012621954741371653\n",
      "\tStd score: 0.010623351098185666\n",
      "\tMin score: 0.0\n",
      "\tMax score: 0.03703684359788895\n"
     ]
    }
   ],
   "source": [
    "# Load Hydra config in notebooks\n",
    "# https://github.com/facebookresearch/hydra/blob/main/examples/jupyter_notebooks/compose_configs_in_notebook.ipynb\n",
    "import os\n",
    "from hydra import initialize_config_dir, compose\n",
    "import hydra\n",
    "from omegaconf import OmegaConf\n",
    "\n",
    "abs_config_dir = os.path.abspath(\"config/\")\n",
    "with initialize_config_dir(version_base=None, config_dir=abs_config_dir):\n",
    "    config_gflownet = compose(config_name=\"gflownet.yaml\", overrides=[])\n",
    "    # print(OmegaConf.to_yaml(env_config))\n",
    "    print(config_gflownet)\n",
    "\n",
    "# GFlowNetAgent\n",
    "from gflownet.policy.base import Policy\n",
    "from gflownet.gflownet import GFlowNetAgent\n",
    "\n",
    "forward_policy = Policy(\n",
    "    config_gflownet.policy.forward,\n",
    "    env=grid_env,\n",
    "    device=device,\n",
    "    float_precision=torch.double,\n",
    ")\n",
    "\n",
    "backward_policy = Policy(\n",
    "    config_gflownet.policy.backward,\n",
    "    env=grid_env,\n",
    "    device=device,\n",
    "    float_precision=torch.double,\n",
    ")\n",
    "\n",
    "sampler = GFlowNetAgent(\n",
    "    grid_env,\n",
    "    device=device,\n",
    "    float_precision=torch.double,\n",
    "    forward_policy=forward_policy,\n",
    "    backward_policy=backward_policy,\n",
    "    logger=logger,\n",
    "    **config_gflownet\n",
    ")"
   ]
  },
  {
   "cell_type": "code",
   "execution_count": 29,
   "metadata": {},
   "outputs": [
    {
     "name": "stderr",
     "output_type": "stream",
     "text": [
      "  0%|          | 0/5000 [00:00<?, ?it/s]"
     ]
    },
    {
     "name": "stdout",
     "output_type": "stream",
     "text": [
      "Compute logprobs...\n",
      "Sampling backward actions from test data to estimate logprobs...\n"
     ]
    },
    {
     "name": "stderr",
     "output_type": "stream",
     "text": [
      "\n",
      "  0%|          | 0/5000 [00:03<?, ?it/s]\n"
     ]
    },
    {
     "ename": "RuntimeError",
     "evalue": "index_add_(): self (Double) and source (Float) must have the same scalar type",
     "output_type": "error",
     "traceback": [
      "\u001b[0;31m---------------------------------------------------------------------------\u001b[0m",
      "\u001b[0;31mRuntimeError\u001b[0m                              Traceback (most recent call last)",
      "Cell \u001b[0;32mIn[29], line 1\u001b[0m\n\u001b[0;32m----> 1\u001b[0m \u001b[43msampler\u001b[49m\u001b[38;5;241;43m.\u001b[39;49m\u001b[43mtrain\u001b[49m\u001b[43m(\u001b[49m\u001b[43m)\u001b[49m\n",
      "File \u001b[0;32m~/.conda/envs/al_new/lib/python3.10/site-packages/gflownet/gflownet.py:1000\u001b[0m, in \u001b[0;36mGFlowNetAgent.train\u001b[0;34m(self)\u001b[0m\n\u001b[1;32m    982\u001b[0m fig_names \u001b[38;5;241m=\u001b[39m [\n\u001b[1;32m    983\u001b[0m     \u001b[38;5;124m\"\u001b[39m\u001b[38;5;124mTrue reward and GFlowNet samples\u001b[39m\u001b[38;5;124m\"\u001b[39m,\n\u001b[1;32m    984\u001b[0m     \u001b[38;5;124m\"\u001b[39m\u001b[38;5;124mGFlowNet KDE Policy\u001b[39m\u001b[38;5;124m\"\u001b[39m,\n\u001b[1;32m    985\u001b[0m     \u001b[38;5;124m\"\u001b[39m\u001b[38;5;124mReward KDE\u001b[39m\u001b[38;5;124m\"\u001b[39m,\n\u001b[1;32m    986\u001b[0m ]\n\u001b[1;32m    987\u001b[0m \u001b[38;5;28;01mif\u001b[39;00m \u001b[38;5;28mself\u001b[39m\u001b[38;5;241m.\u001b[39mlogger\u001b[38;5;241m.\u001b[39mdo_test(it):\n\u001b[1;32m    988\u001b[0m     (\n\u001b[1;32m    989\u001b[0m         \u001b[38;5;28mself\u001b[39m\u001b[38;5;241m.\u001b[39ml1,\n\u001b[1;32m    990\u001b[0m         \u001b[38;5;28mself\u001b[39m\u001b[38;5;241m.\u001b[39mkl,\n\u001b[1;32m    991\u001b[0m         \u001b[38;5;28mself\u001b[39m\u001b[38;5;241m.\u001b[39mjsd,\n\u001b[1;32m    992\u001b[0m         \u001b[38;5;28mself\u001b[39m\u001b[38;5;241m.\u001b[39mcorr_prob_traj_rewards,\n\u001b[1;32m    993\u001b[0m         \u001b[38;5;28mself\u001b[39m\u001b[38;5;241m.\u001b[39mvar_logrewards_logp,\n\u001b[1;32m    994\u001b[0m         \u001b[38;5;28mself\u001b[39m\u001b[38;5;241m.\u001b[39mnll_tt,\n\u001b[1;32m    995\u001b[0m         \u001b[38;5;28mself\u001b[39m\u001b[38;5;241m.\u001b[39mmean_logprobs_std,\n\u001b[1;32m    996\u001b[0m         \u001b[38;5;28mself\u001b[39m\u001b[38;5;241m.\u001b[39mmean_probs_std,\n\u001b[1;32m    997\u001b[0m         \u001b[38;5;28mself\u001b[39m\u001b[38;5;241m.\u001b[39mlogprobs_std_nll_ratio,\n\u001b[1;32m    998\u001b[0m         figs,\n\u001b[1;32m    999\u001b[0m         env_metrics,\n\u001b[0;32m-> 1000\u001b[0m     ) \u001b[38;5;241m=\u001b[39m \u001b[38;5;28;43mself\u001b[39;49m\u001b[38;5;241;43m.\u001b[39;49m\u001b[43mtest\u001b[49m\u001b[43m(\u001b[49m\u001b[43m)\u001b[49m\n\u001b[1;32m   1001\u001b[0m     \u001b[38;5;28mself\u001b[39m\u001b[38;5;241m.\u001b[39mlogger\u001b[38;5;241m.\u001b[39mlog_test_metrics(\n\u001b[1;32m   1002\u001b[0m         \u001b[38;5;28mself\u001b[39m\u001b[38;5;241m.\u001b[39ml1,\n\u001b[1;32m   1003\u001b[0m         \u001b[38;5;28mself\u001b[39m\u001b[38;5;241m.\u001b[39mkl,\n\u001b[0;32m   (...)\u001b[0m\n\u001b[1;32m   1012\u001b[0m         \u001b[38;5;28mself\u001b[39m\u001b[38;5;241m.\u001b[39muse_context,\n\u001b[1;32m   1013\u001b[0m     )\n\u001b[1;32m   1014\u001b[0m     \u001b[38;5;28mself\u001b[39m\u001b[38;5;241m.\u001b[39mlogger\u001b[38;5;241m.\u001b[39mlog_metrics(env_metrics, it, use_context\u001b[38;5;241m=\u001b[39m\u001b[38;5;28mself\u001b[39m\u001b[38;5;241m.\u001b[39muse_context)\n",
      "File \u001b[0;32m~/.conda/envs/al_new/lib/python3.10/site-packages/gflownet/gflownet.py:1173\u001b[0m, in \u001b[0;36mGFlowNetAgent.test\u001b[0;34m(self, **plot_kwargs)\u001b[0m\n\u001b[1;32m   1168\u001b[0m     x_tt \u001b[38;5;241m=\u001b[39m dict_tt[\u001b[38;5;124m\"\u001b[39m\u001b[38;5;124mx\u001b[39m\u001b[38;5;124m\"\u001b[39m]\n\u001b[1;32m   1170\u001b[0m \u001b[38;5;66;03m# Compute correlation between the rewards of the test data and the log\u001b[39;00m\n\u001b[1;32m   1171\u001b[0m \u001b[38;5;66;03m# likelihood of the data according the the GFlowNet policy; and NLL.\u001b[39;00m\n\u001b[1;32m   1172\u001b[0m \u001b[38;5;66;03m# TODO: organise code for better efficiency and readability\u001b[39;00m\n\u001b[0;32m-> 1173\u001b[0m logprobs_x_tt, logprobs_std, probs_std \u001b[38;5;241m=\u001b[39m \u001b[38;5;28;43mself\u001b[39;49m\u001b[38;5;241;43m.\u001b[39;49m\u001b[43mestimate_logprobs_data\u001b[49m\u001b[43m(\u001b[49m\n\u001b[1;32m   1174\u001b[0m \u001b[43m    \u001b[49m\u001b[43mx_tt\u001b[49m\u001b[43m,\u001b[49m\n\u001b[1;32m   1175\u001b[0m \u001b[43m    \u001b[49m\u001b[43mn_trajectories\u001b[49m\u001b[38;5;241;43m=\u001b[39;49m\u001b[38;5;28;43mself\u001b[39;49m\u001b[38;5;241;43m.\u001b[39;49m\u001b[43mlogger\u001b[49m\u001b[38;5;241;43m.\u001b[39;49m\u001b[43mtest\u001b[49m\u001b[38;5;241;43m.\u001b[39;49m\u001b[43mn_trajs_logprobs\u001b[49m\u001b[43m,\u001b[49m\n\u001b[1;32m   1176\u001b[0m \u001b[43m    \u001b[49m\u001b[43mmax_data_size\u001b[49m\u001b[38;5;241;43m=\u001b[39;49m\u001b[38;5;28;43mself\u001b[39;49m\u001b[38;5;241;43m.\u001b[39;49m\u001b[43mlogger\u001b[49m\u001b[38;5;241;43m.\u001b[39;49m\u001b[43mtest\u001b[49m\u001b[38;5;241;43m.\u001b[39;49m\u001b[43mmax_data_logprobs\u001b[49m\u001b[43m,\u001b[49m\n\u001b[1;32m   1177\u001b[0m \u001b[43m    \u001b[49m\u001b[43mbatch_size\u001b[49m\u001b[38;5;241;43m=\u001b[39;49m\u001b[38;5;28;43mself\u001b[39;49m\u001b[38;5;241;43m.\u001b[39;49m\u001b[43mlogger\u001b[49m\u001b[38;5;241;43m.\u001b[39;49m\u001b[43mtest\u001b[49m\u001b[38;5;241;43m.\u001b[39;49m\u001b[43mlogprobs_batch_size\u001b[49m\u001b[43m,\u001b[49m\n\u001b[1;32m   1178\u001b[0m \u001b[43m    \u001b[49m\u001b[43mbs_num_samples\u001b[49m\u001b[38;5;241;43m=\u001b[39;49m\u001b[38;5;28;43mself\u001b[39;49m\u001b[38;5;241;43m.\u001b[39;49m\u001b[43mlogger\u001b[49m\u001b[38;5;241;43m.\u001b[39;49m\u001b[43mtest\u001b[49m\u001b[38;5;241;43m.\u001b[39;49m\u001b[43mlogprobs_bootstrap_size\u001b[49m\u001b[43m,\u001b[49m\n\u001b[1;32m   1179\u001b[0m \u001b[43m\u001b[49m\u001b[43m)\u001b[49m\n\u001b[1;32m   1180\u001b[0m mean_logprobs_std \u001b[38;5;241m=\u001b[39m logprobs_std\u001b[38;5;241m.\u001b[39mmean()\u001b[38;5;241m.\u001b[39mitem()\n\u001b[1;32m   1181\u001b[0m mean_probs_std \u001b[38;5;241m=\u001b[39m probs_std\u001b[38;5;241m.\u001b[39mmean()\u001b[38;5;241m.\u001b[39mitem()\n",
      "File \u001b[0;32m~/.conda/envs/al_new/lib/python3.10/site-packages/torch/utils/_contextlib.py:115\u001b[0m, in \u001b[0;36mcontext_decorator.<locals>.decorate_context\u001b[0;34m(*args, **kwargs)\u001b[0m\n\u001b[1;32m    112\u001b[0m \u001b[38;5;129m@functools\u001b[39m\u001b[38;5;241m.\u001b[39mwraps(func)\n\u001b[1;32m    113\u001b[0m \u001b[38;5;28;01mdef\u001b[39;00m \u001b[38;5;21mdecorate_context\u001b[39m(\u001b[38;5;241m*\u001b[39margs, \u001b[38;5;241m*\u001b[39m\u001b[38;5;241m*\u001b[39mkwargs):\n\u001b[1;32m    114\u001b[0m     \u001b[38;5;28;01mwith\u001b[39;00m ctx_factory():\n\u001b[0;32m--> 115\u001b[0m         \u001b[38;5;28;01mreturn\u001b[39;00m \u001b[43mfunc\u001b[49m\u001b[43m(\u001b[49m\u001b[38;5;241;43m*\u001b[39;49m\u001b[43margs\u001b[49m\u001b[43m,\u001b[49m\u001b[43m \u001b[49m\u001b[38;5;241;43m*\u001b[39;49m\u001b[38;5;241;43m*\u001b[39;49m\u001b[43mkwargs\u001b[49m\u001b[43m)\u001b[49m\n",
      "File \u001b[0;32m~/.conda/envs/al_new/lib/python3.10/site-packages/gflownet/gflownet.py:946\u001b[0m, in \u001b[0;36mGFlowNetAgent.estimate_logprobs_data\u001b[0;34m(self, data, n_trajectories, max_iters_per_traj, max_data_size, batch_size, bs_num_samples)\u001b[0m\n\u001b[1;32m    944\u001b[0m traj_indices \u001b[38;5;241m=\u001b[39m traj_indices_batch \u001b[38;5;241m%\u001b[39m mult_indices\n\u001b[1;32m    945\u001b[0m \u001b[38;5;66;03m# Compute log probabilities of the trajectories\u001b[39;00m\n\u001b[0;32m--> 946\u001b[0m logprobs_f[data_indices, traj_indices] \u001b[38;5;241m=\u001b[39m \u001b[38;5;28;43mself\u001b[39;49m\u001b[38;5;241;43m.\u001b[39;49m\u001b[43mcompute_logprobs_trajectories\u001b[49m\u001b[43m(\u001b[49m\n\u001b[1;32m    947\u001b[0m \u001b[43m    \u001b[49m\u001b[43mbatch\u001b[49m\u001b[43m,\u001b[49m\u001b[43m \u001b[49m\u001b[43mbackward\u001b[49m\u001b[38;5;241;43m=\u001b[39;49m\u001b[38;5;28;43;01mFalse\u001b[39;49;00m\n\u001b[1;32m    948\u001b[0m \u001b[43m\u001b[49m\u001b[43m)\u001b[49m\n\u001b[1;32m    949\u001b[0m logprobs_b[data_indices, traj_indices] \u001b[38;5;241m=\u001b[39m \u001b[38;5;28mself\u001b[39m\u001b[38;5;241m.\u001b[39mcompute_logprobs_trajectories(\n\u001b[1;32m    950\u001b[0m     batch, backward\u001b[38;5;241m=\u001b[39m\u001b[38;5;28;01mTrue\u001b[39;00m\n\u001b[1;32m    951\u001b[0m )\n\u001b[1;32m    952\u001b[0m \u001b[38;5;66;03m# Increment batch indices\u001b[39;00m\n",
      "File \u001b[0;32m~/.conda/envs/al_new/lib/python3.10/site-packages/gflownet/gflownet.py:576\u001b[0m, in \u001b[0;36mGFlowNetAgent.compute_logprobs_trajectories\u001b[0;34m(self, batch, backward)\u001b[0m\n\u001b[1;32m    568\u001b[0m     logprobs_states \u001b[38;5;241m=\u001b[39m \u001b[38;5;28mself\u001b[39m\u001b[38;5;241m.\u001b[39menv\u001b[38;5;241m.\u001b[39mget_logprobs(\n\u001b[1;32m    569\u001b[0m         policy_output_f, actions, masks_f, parents, backward\n\u001b[1;32m    570\u001b[0m     )\n\u001b[1;32m    571\u001b[0m \u001b[38;5;66;03m# Sum log probabilities of all transitions in each trajectory\u001b[39;00m\n\u001b[1;32m    572\u001b[0m logprobs \u001b[38;5;241m=\u001b[39m \u001b[43mtorch\u001b[49m\u001b[38;5;241;43m.\u001b[39;49m\u001b[43mzeros\u001b[49m\u001b[43m(\u001b[49m\n\u001b[1;32m    573\u001b[0m \u001b[43m    \u001b[49m\u001b[43mbatch\u001b[49m\u001b[38;5;241;43m.\u001b[39;49m\u001b[43mget_n_trajectories\u001b[49m\u001b[43m(\u001b[49m\u001b[43m)\u001b[49m\u001b[43m,\u001b[49m\n\u001b[1;32m    574\u001b[0m \u001b[43m    \u001b[49m\u001b[43mdtype\u001b[49m\u001b[38;5;241;43m=\u001b[39;49m\u001b[38;5;28;43mself\u001b[39;49m\u001b[38;5;241;43m.\u001b[39;49m\u001b[43mfloat\u001b[49m\u001b[43m,\u001b[49m\n\u001b[1;32m    575\u001b[0m \u001b[43m    \u001b[49m\u001b[43mdevice\u001b[49m\u001b[38;5;241;43m=\u001b[39;49m\u001b[38;5;28;43mself\u001b[39;49m\u001b[38;5;241;43m.\u001b[39;49m\u001b[43mdevice\u001b[49m\u001b[43m,\u001b[49m\n\u001b[0;32m--> 576\u001b[0m \u001b[43m\u001b[49m\u001b[43m)\u001b[49m\u001b[38;5;241;43m.\u001b[39;49m\u001b[43mindex_add_\u001b[49m\u001b[43m(\u001b[49m\u001b[38;5;241;43m0\u001b[39;49m\u001b[43m,\u001b[49m\u001b[43m \u001b[49m\u001b[43mtraj_indices\u001b[49m\u001b[43m,\u001b[49m\u001b[43m \u001b[49m\u001b[43mlogprobs_states\u001b[49m\u001b[43m)\u001b[49m\n\u001b[1;32m    577\u001b[0m \u001b[38;5;28;01mreturn\u001b[39;00m logprobs\n",
      "\u001b[0;31mRuntimeError\u001b[0m: index_add_(): self (Double) and source (Float) must have the same scalar type"
     ]
    }
   ],
   "source": [
    "sampler.train()"
   ]
  },
  {
   "cell_type": "code",
   "execution_count": 115,
   "metadata": {},
   "outputs": [],
   "source": [
    "from gflownet.utils.batch import Batch\n",
    "batch = Batch(env=grid_env, device=device, float_type=float_prec)"
   ]
  },
  {
   "cell_type": "code",
   "execution_count": 116,
   "metadata": {},
   "outputs": [
    {
     "ename": "IndexError",
     "evalue": "list index out of range",
     "output_type": "error",
     "traceback": [
      "\u001b[0;31m---------------------------------------------------------------------------\u001b[0m",
      "\u001b[0;31mIndexError\u001b[0m                                Traceback (most recent call last)",
      "Cell \u001b[0;32mIn[116], line 3\u001b[0m\n\u001b[1;32m      1\u001b[0m \u001b[38;5;66;03m# Make indices of batch consecutive since they are used for indexing here\u001b[39;00m\n\u001b[1;32m      2\u001b[0m \u001b[38;5;66;03m# Get necessary tensors from batch\u001b[39;00m\n\u001b[0;32m----> 3\u001b[0m states_policy \u001b[38;5;241m=\u001b[39m \u001b[43mbatch\u001b[49m\u001b[38;5;241;43m.\u001b[39;49m\u001b[43mget_states\u001b[49m\u001b[43m(\u001b[49m\u001b[43mpolicy\u001b[49m\u001b[38;5;241;43m=\u001b[39;49m\u001b[38;5;28;43;01mTrue\u001b[39;49;00m\u001b[43m)\u001b[49m\n\u001b[1;32m      4\u001b[0m states \u001b[38;5;241m=\u001b[39m batch\u001b[38;5;241m.\u001b[39mget_states(policy\u001b[38;5;241m=\u001b[39m\u001b[38;5;28;01mFalse\u001b[39;00m)\n\u001b[1;32m      5\u001b[0m actions \u001b[38;5;241m=\u001b[39m batch\u001b[38;5;241m.\u001b[39mget_actions()\n",
      "File \u001b[0;32m~/.conda/envs/al_new/lib/python3.10/site-packages/gflownet/utils/batch.py:358\u001b[0m, in \u001b[0;36mBatch.get_states\u001b[0;34m(self, policy, proxy, force_recompute)\u001b[0m\n\u001b[1;32m    356\u001b[0m \u001b[38;5;28;01mif\u001b[39;00m policy \u001b[38;5;129;01mis\u001b[39;00m \u001b[38;5;28;01mTrue\u001b[39;00m:\n\u001b[1;32m    357\u001b[0m     \u001b[38;5;28;01mif\u001b[39;00m \u001b[38;5;28mself\u001b[39m\u001b[38;5;241m.\u001b[39mstates_policy \u001b[38;5;129;01mis\u001b[39;00m \u001b[38;5;28;01mNone\u001b[39;00m \u001b[38;5;129;01mor\u001b[39;00m force_recompute \u001b[38;5;129;01mis\u001b[39;00m \u001b[38;5;28;01mTrue\u001b[39;00m:\n\u001b[0;32m--> 358\u001b[0m         \u001b[38;5;28mself\u001b[39m\u001b[38;5;241m.\u001b[39mstates_policy \u001b[38;5;241m=\u001b[39m \u001b[38;5;28;43mself\u001b[39;49m\u001b[38;5;241;43m.\u001b[39;49m\u001b[43mstates2policy\u001b[49m\u001b[43m(\u001b[49m\u001b[43m)\u001b[49m\n\u001b[1;32m    359\u001b[0m     \u001b[38;5;28;01mreturn\u001b[39;00m \u001b[38;5;28mself\u001b[39m\u001b[38;5;241m.\u001b[39mstates_policy\n\u001b[1;32m    360\u001b[0m \u001b[38;5;28;01mif\u001b[39;00m proxy \u001b[38;5;129;01mis\u001b[39;00m \u001b[38;5;28;01mTrue\u001b[39;00m:\n",
      "File \u001b[0;32m~/.conda/envs/al_new/lib/python3.10/site-packages/gflownet/utils/batch.py:413\u001b[0m, in \u001b[0;36mBatch.states2policy\u001b[0;34m(self, states, traj_indices)\u001b[0m\n\u001b[1;32m    407\u001b[0m         states_policy[traj_indices_torch \u001b[38;5;241m==\u001b[39m traj_idx] \u001b[38;5;241m=\u001b[39m \u001b[38;5;28mself\u001b[39m\u001b[38;5;241m.\u001b[39menvs[\n\u001b[1;32m    408\u001b[0m             traj_idx\n\u001b[1;32m    409\u001b[0m         ]\u001b[38;5;241m.\u001b[39mstatebatchpolicy(\n\u001b[1;32m    410\u001b[0m             \u001b[38;5;28mself\u001b[39m\u001b[38;5;241m.\u001b[39mget_states_of_trajectory(traj_idx, states, traj_indices)\n\u001b[1;32m    411\u001b[0m         )\n\u001b[1;32m    412\u001b[0m     \u001b[38;5;28;01mreturn\u001b[39;00m states_policy\n\u001b[0;32m--> 413\u001b[0m \u001b[38;5;28;01mreturn\u001b[39;00m \u001b[38;5;28;43mself\u001b[39;49m\u001b[38;5;241;43m.\u001b[39;49m\u001b[43menv\u001b[49m\u001b[38;5;241;43m.\u001b[39;49m\u001b[43mstates2policy\u001b[49m\u001b[43m(\u001b[49m\u001b[43mstates\u001b[49m\u001b[43m)\u001b[49m\n",
      "File \u001b[0;32m~/.conda/envs/al_new/lib/python3.10/site-packages/gflownet/envs/grid.py:182\u001b[0m, in \u001b[0;36mGrid.states2policy\u001b[0;34m(self, states)\u001b[0m\n\u001b[1;32m    156\u001b[0m \u001b[38;5;28;01mdef\u001b[39;00m \u001b[38;5;21mstates2policy\u001b[39m(\n\u001b[1;32m    157\u001b[0m     \u001b[38;5;28mself\u001b[39m, states: Union[List, TensorType[\u001b[38;5;124m\"\u001b[39m\u001b[38;5;124mbatch\u001b[39m\u001b[38;5;124m\"\u001b[39m, \u001b[38;5;124m\"\u001b[39m\u001b[38;5;124mstate_dim\u001b[39m\u001b[38;5;124m\"\u001b[39m]]\n\u001b[1;32m    158\u001b[0m ) \u001b[38;5;241m-\u001b[39m\u001b[38;5;241m>\u001b[39m TensorType[\u001b[38;5;124m\"\u001b[39m\u001b[38;5;124mbatch\u001b[39m\u001b[38;5;124m\"\u001b[39m, \u001b[38;5;124m\"\u001b[39m\u001b[38;5;124mpolicy_input_dim\u001b[39m\u001b[38;5;124m\"\u001b[39m]:\n\u001b[1;32m    159\u001b[0m \u001b[38;5;250m    \u001b[39m\u001b[38;5;124;03m\"\"\"\u001b[39;00m\n\u001b[1;32m    160\u001b[0m \u001b[38;5;124;03m    Prepares a batch of states in \"environment format\" for the policy model: states\u001b[39;00m\n\u001b[1;32m    161\u001b[0m \u001b[38;5;124;03m    are one-hot encoded.\u001b[39;00m\n\u001b[0;32m   (...)\u001b[0m\n\u001b[1;32m    180\u001b[0m \u001b[38;5;124;03m    A tensor containing all the states in the batch.\u001b[39;00m\n\u001b[1;32m    181\u001b[0m \u001b[38;5;124;03m    \"\"\"\u001b[39;00m\n\u001b[0;32m--> 182\u001b[0m     states \u001b[38;5;241m=\u001b[39m \u001b[43mtlong\u001b[49m\u001b[43m(\u001b[49m\u001b[43mstates\u001b[49m\u001b[43m,\u001b[49m\u001b[43m \u001b[49m\u001b[43mdevice\u001b[49m\u001b[38;5;241;43m=\u001b[39;49m\u001b[38;5;28;43mself\u001b[39;49m\u001b[38;5;241;43m.\u001b[39;49m\u001b[43mdevice\u001b[49m\u001b[43m)\u001b[49m\n\u001b[1;32m    183\u001b[0m     n_states \u001b[38;5;241m=\u001b[39m states\u001b[38;5;241m.\u001b[39mshape[\u001b[38;5;241m0\u001b[39m]\n\u001b[1;32m    184\u001b[0m     cols \u001b[38;5;241m=\u001b[39m states \u001b[38;5;241m+\u001b[39m torch\u001b[38;5;241m.\u001b[39marange(\u001b[38;5;28mself\u001b[39m\u001b[38;5;241m.\u001b[39mn_dim) \u001b[38;5;241m*\u001b[39m \u001b[38;5;28mself\u001b[39m\u001b[38;5;241m.\u001b[39mlength\n",
      "File \u001b[0;32m~/.conda/envs/al_new/lib/python3.10/site-packages/gflownet/utils/common.py:213\u001b[0m, in \u001b[0;36mtlong\u001b[0;34m(x, device)\u001b[0m\n\u001b[1;32m    212\u001b[0m \u001b[38;5;28;01mdef\u001b[39;00m \u001b[38;5;21mtlong\u001b[39m(x, device):\n\u001b[0;32m--> 213\u001b[0m     \u001b[38;5;28;01mif\u001b[39;00m \u001b[38;5;28misinstance\u001b[39m(x, \u001b[38;5;28mlist\u001b[39m) \u001b[38;5;129;01mand\u001b[39;00m torch\u001b[38;5;241m.\u001b[39mis_tensor(\u001b[43mx\u001b[49m\u001b[43m[\u001b[49m\u001b[38;5;241;43m0\u001b[39;49m\u001b[43m]\u001b[49m):\n\u001b[1;32m    214\u001b[0m         \u001b[38;5;28;01mreturn\u001b[39;00m torch\u001b[38;5;241m.\u001b[39mstack(x)\u001b[38;5;241m.\u001b[39mto(device\u001b[38;5;241m=\u001b[39mdevice, dtype\u001b[38;5;241m=\u001b[39mtorch\u001b[38;5;241m.\u001b[39mlong)\n\u001b[1;32m    215\u001b[0m     \u001b[38;5;28;01mif\u001b[39;00m torch\u001b[38;5;241m.\u001b[39mis_tensor(x):\n",
      "\u001b[0;31mIndexError\u001b[0m: list index out of range"
     ]
    }
   ],
   "source": [
    "# Make indices of batch consecutive since they are used for indexing here\n",
    "# Get necessary tensors from batch\n",
    "states_policy = batch.get_states(policy=True)\n",
    "states = batch.get_states(policy=False)\n",
    "actions = batch.get_actions()\n",
    "parents_policy = batch.get_parents(policy=True)\n",
    "parents = batch.get_parents(policy=False)\n",
    "traj_indices = batch.get_trajectory_indices(consecutive=True)\n",
    "# Forward trajectories\n",
    "masks_f = batch.get_masks_forward(of_parents=True)\n",
    "policy_output_f = forward_policy(parents_policy)"
   ]
  },
  {
   "cell_type": "code",
   "execution_count": null,
   "metadata": {},
   "outputs": [],
   "source": []
  },
  {
   "cell_type": "code",
   "execution_count": null,
   "metadata": {},
   "outputs": [],
   "source": []
  },
  {
   "cell_type": "code",
   "execution_count": null,
   "metadata": {},
   "outputs": [],
   "source": []
  },
  {
   "cell_type": "code",
   "execution_count": null,
   "metadata": {},
   "outputs": [],
   "source": []
  },
  {
   "cell_type": "code",
   "execution_count": 11,
   "metadata": {},
   "outputs": [],
   "source": [
    "# # environment\n",
    "# import config\n",
    "# train = config.env.BufferSpec(\n",
    "#     path=\"~/scratch/datasets/grid/corners_d2l3_r0.csv\",\n",
    "#     seed=167,\n",
    "#     n=1000,\n",
    "# )\n",
    "# test = config.env.BufferSpec(\n",
    "#     path=\"~/scratch/datasets/grid/corners_d2l3_r0.csv\",\n",
    "#     seed=167,\n",
    "#     n=1000,\n",
    "# )\n",
    "# buffer = config.env.Buffer(train=train, test=test)\n",
    "# config_env = config.env.Grid_Env(\n",
    "#     buffer,\n",
    "#     min_step_len=1,\n",
    "#     max_step_len=1,\n",
    "#     cell_min=-1,\n",
    "#     cell_max=1\n",
    "# )\n",
    "\n",
    "# from environment.grid_env import GridEnv\n",
    "# env = GridEnv(**config_env.__dict__)"
   ]
  }
 ],
 "metadata": {
  "kernelspec": {
   "display_name": "Python 3",
   "language": "python",
   "name": "python3"
  },
  "language_info": {
   "codemirror_mode": {
    "name": "ipython",
    "version": 3
   },
   "file_extension": ".py",
   "mimetype": "text/x-python",
   "name": "python",
   "nbconvert_exporter": "python",
   "pygments_lexer": "ipython3",
   "version": "3.10.13"
  }
 },
 "nbformat": 4,
 "nbformat_minor": 2
}
