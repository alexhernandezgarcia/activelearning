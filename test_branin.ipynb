{
 "cells": [
  {
   "cell_type": "markdown",
   "metadata": {},
   "source": [
    "# Test Hydra Config"
   ]
  },
  {
   "cell_type": "code",
   "execution_count": 9,
   "metadata": {},
   "outputs": [
    {
     "name": "stdout",
     "output_type": "stream",
     "text": [
      "{'device': 'cpu', 'float_precision': 32, 'budget': 5, 'n_samples': 3, 'seed': 31415, 'maximize': False, 'dataset': {'grid_size': 10, 'normalize_scores': True, 'train_fraction': 1.0, 'batch_size': 16, 'shuffle': True, 'train_path': '${user.data.root}/branin/data_10_train.csv', 'test_path': None, '_target_': 'activelearning.dataset.grid.BraninDatasetHandler'}, 'oracle': {'_target_': 'activelearning.oracle.oracle.BraninOracle', 'fidelity': 1, 'do_domain_map': True}, 'selector': {'_target_': 'activelearning.selector.selector.Selector'}, 'sampler': {'_target_': 'activelearning.sampler.sampler.GreedySampler'}, 'surrogate': {'_target_': 'activelearning.surrogate.gp_surrogate.SingleTaskGPRegressor'}, 'acquisition': {'_target_': 'activelearning.acquisition.acquisition.BOTorchMaxValueEntropyAcquisition', 'acq_fn_class': {'_target_': 'botorch.acquisition.max_value_entropy_search.qLowerBoundMaxValueEntropy', '_partial_': True}}, 'user': {'logdir': {'root': './logs'}, 'data': {'root': './data'}}, 'logger': {'_target_': 'activelearning.utils.logger.ConsoleLogger', 'project_name': 'activelearning', 'run_name': None}}\n"
     ]
    }
   ],
   "source": [
    "# Load Hydra config in notebooks\n",
    "# https://github.com/facebookresearch/hydra/blob/main/examples/jupyter_notebooks/compose_configs_in_notebook.ipynb\n",
    "import os\n",
    "from hydra import initialize_config_dir, compose\n",
    "import hydra\n",
    "from omegaconf import OmegaConf\n",
    "\n",
    "abs_config_dir = os.path.abspath(\"config/\")\n",
    "\n",
    "with initialize_config_dir(version_base=None, config_dir=abs_config_dir):\n",
    "    config = compose(config_name=\"main.yaml\", overrides=[])\n",
    "    # print(OmegaConf.to_yaml(env_config))\n",
    "    print(config)\n"
   ]
  },
  {
   "cell_type": "code",
   "execution_count": null,
   "metadata": {},
   "outputs": [
    {
     "name": "stdout",
     "output_type": "stream",
     "text": [
      "{'device': 'cpu', 'float_precision': 32, 'budget': 5, 'n_samples': 3, 'seed': 31415, 'maximize': False, 'dataset': {'grid_size': 10, 'normalize_scores': True, 'train_fraction': 1.0, 'batch_size': 16, 'shuffle': True, 'train_path': '${user.data.root}/branin/data_10_train.csv', 'test_path': None, '_target_': 'activelearning.dataset.grid.BraninDatasetHandler'}, 'oracle': {'_target_': 'activelearning.oracle.oracle.Branin', 'fidelity': 1, 'do_domain_map': True}, 'selector': {'_target_': 'activelearning.selector.selector.Selector'}, 'sampler': {'_target_': 'activelearning.sampler.sampler.GreedySampler'}, 'surrogate': {'_target_': 'activelearning.surrogate.gp_surrogate.SingleTaskGPRegressor'}, 'acquisition': {'_target_': 'activelearning.acquisition.acquisition.BOTorchMaxValueEntropyAcquisition', 'acq_fn_class': {'_target_': 'botorch.acquisition.max_value_entropy_search.qLowerBoundMaxValueEntropy', '_partial_': True}}, 'user': {'logdir': {'root': './logs'}, 'data': {'root': './data'}}, 'logger': {'_target_': 'activelearning.utils.logger_activelearning.ActiveLearningLogger', 'do': {'online': False, 'times': False}, 'ckpts': {'policy': {'period': 5000}, 'regressor': {'period': 10}}, 'train': {'period': 1}, 'test': {'first_it': True, 'period': 100, 'n': 100, 'kde': {'bandwidth': 0.1, 'kernel': 'gaussian'}}, 'oracle': {'period': 100000, 'k': [1, 10, 100]}, 'logdir': {'root': './logs', 'ckpts': 'ckpts', 'data': 'data', 'overwrite': True}, 'lightweight': False, 'progress': True, 'debug': False, 'project_name': 'activelearning', 'tags': ['dummy1', 'dummy2']}}\n"
     ]
    }
   ],
   "source": [
    "\n",
    "dataset = hydra.utils.instantiate(\n",
    "    config.dataset,\n",
    "    float_precision=config.float_precision,\n",
    ")\n",
    "\n",
    "oracle = hydra.utils.instantiate(\n",
    "    config.oracle,\n",
    "    device=config.device,\n",
    "    float_precision=config.float_precision,\n",
    ")\n",
    "\n",
    "surrogate = hydra.utils.instantiate(\n",
    "    config.surrogate,\n",
    "    device=config.device,\n",
    "    float_precision=config.float_precision,\n",
    ")\n",
    "\n",
    "acquisition = hydra.utils.instantiate(\n",
    "    config.acquisition,\n",
    "    surrogate_model=surrogate,\n",
    "    dataset_handler=dataset,\n",
    "    device=config.device,\n",
    "    float_precision=config.float_precision,\n",
    ")\n",
    "\n",
    "sampler = hydra.utils.instantiate(\n",
    "    config.sampler,\n",
    "    acquisition=acquisition,\n",
    "    device=config.device,\n",
    "    float_precision=config.float_precision,\n",
    ")\n",
    "\n",
    "selector = hydra.utils.instantiate(\n",
    "    config.selector,\n",
    "    score_fn=acquisition.get_acquisition_values,\n",
    "    device=config.device,\n",
    "    float_precision=config.float_precision,\n",
    ")"
   ]
  },
  {
   "cell_type": "code",
   "execution_count": null,
   "metadata": {},
   "outputs": [],
   "source": []
  },
  {
   "cell_type": "markdown",
   "metadata": {},
   "source": [
    "### Create Larger Branin Set"
   ]
  },
  {
   "cell_type": "code",
   "execution_count": 1,
   "metadata": {},
   "outputs": [],
   "source": [
    "from activelearning.dataset.grid import BraninDatasetHandler\n",
    "from activelearning.oracle.oracle import BraninOracle\n",
    "\n",
    "\n",
    "# Dataset\n",
    "dataset_handler = BraninDatasetHandler(\n",
    "    grid_size=100,\n",
    "    train_path=\"./data/branin/data_%i_train.csv\" % 100,\n",
    "    train_fraction=1.0,\n",
    "    float_precision=32,\n",
    ")\n",
    "\n",
    "candidate_set, xi, yi = dataset_handler.get_candidate_set()\n",
    "\n",
    "# Oracle\n",
    "oracle = BraninOracle(\n",
    "    fidelity=1, do_domain_map=True, device=\"cpu\", float_precision=32\n",
    ")\n"
   ]
  },
  {
   "cell_type": "code",
   "execution_count": 2,
   "metadata": {},
   "outputs": [
    {
     "data": {
      "text/plain": [
       "(<torch.utils.data.dataloader.DataLoader at 0x7f710c53d630>, None)"
      ]
     },
     "execution_count": 2,
     "metadata": {},
     "output_type": "execute_result"
    }
   ],
   "source": [
    "# uniform sampling\n",
    "import numpy as np\n",
    "subset_idcs = np.random.uniform(0,1,size=(len(candidate_set)))>0.97\n",
    "subset = candidate_set[subset_idcs]\n",
    "from activelearning.oracle.oracle import BraninOracle\n",
    "oracle = BraninOracle(fidelity=1, device=\"cpu\", float_precision=32)\n",
    "\n",
    "dataset_handler.update_dataset(subset, oracle(subset.clone()), \"data/branin/large_branin_100.csv\")"
   ]
  },
  {
   "cell_type": "code",
   "execution_count": 21,
   "metadata": {},
   "outputs": [
    {
     "data": {
      "text/plain": [
       "torch.Size([74, 2])"
      ]
     },
     "execution_count": 21,
     "metadata": {},
     "output_type": "execute_result"
    }
   ],
   "source": [
    "# quadrant sampling\n",
    "import numpy as np\n",
    "candidate_q1 = candidate_set[(candidate_set[:,0]<0.5) * (candidate_set[:,1]<0.5)]\n",
    "candidate_q2 = candidate_set[(candidate_set[:,0]<0.5) * (candidate_set[:,1]>=0.5)]\n",
    "candidate_q3 = candidate_set[(candidate_set[:,0]>=0.5) * (candidate_set[:,1]<0.5)]\n",
    "candidate_q4 = candidate_set[(candidate_set[:,0]>=0.5) * (candidate_set[:,1]>=0.5)]\n",
    "\n",
    "subset_idcs_1 = np.random.uniform(0,1,size=(len(candidate_q1)))>0.99\n",
    "subset_idcs_2 = np.random.uniform(0,1,size=(len(candidate_q1)))>0.99\n",
    "subset_idcs_3 = np.random.uniform(0,1,size=(len(candidate_q1)))>0.99\n",
    "subset_idcs_4 = np.random.uniform(0,1,size=(len(candidate_q1)))>1.0\n",
    "\n",
    "subset_1 = candidate_q1[subset_idcs_1]\n",
    "subset_2 = candidate_q2[subset_idcs_2]\n",
    "subset_3 = candidate_q3[subset_idcs_3]\n",
    "subset_4 = candidate_q4[subset_idcs_4]\n",
    "\n",
    "import torch\n",
    "subset = torch.concat([subset_1, subset_2, subset_3, subset_4])\n",
    "subset.shape"
   ]
  },
  {
   "cell_type": "code",
   "execution_count": 22,
   "metadata": {},
   "outputs": [
    {
     "data": {
      "text/plain": [
       "(<torch.utils.data.dataloader.DataLoader at 0x7f8dd0bdd0f0>, None)"
      ]
     },
     "execution_count": 22,
     "metadata": {},
     "output_type": "execute_result"
    }
   ],
   "source": [
    "from activelearning.oracle.oracle import BraninOracle\n",
    "oracle = BraninOracle(fidelity=1, device=\"cpu\", float_precision=32)\n",
    "\n",
    "dataset_handler.update_dataset(subset, oracle(subset.clone()), \"data/branin/large_branin_quadrant_100.csv\")"
   ]
  },
  {
   "cell_type": "code",
   "execution_count": null,
   "metadata": {},
   "outputs": [],
   "source": []
  },
  {
   "cell_type": "markdown",
   "metadata": {},
   "source": [
    "# Active Learning Loop"
   ]
  },
  {
   "cell_type": "code",
   "execution_count": 5,
   "metadata": {},
   "outputs": [
    {
     "name": "stdout",
     "output_type": "stream",
     "text": [
      "dataset:\n",
      "  grid_size: 100\n",
      "  normalize_scores: true\n",
      "  train_fraction: 1.0\n",
      "  batch_size: 16\n",
      "  shuffle: true\n",
      "  train_path: ~/activelearning/data/branin/data_100_train.csv\n",
      "  test_path: null\n",
      "  _target_: activelearning.dataset.grid.BraninDatasetHandler\n",
      "oracle:\n",
      "  _target_: activelearning.oracle.oracle.BraninOracle\n",
      "  fidelity: 1\n",
      "  do_domain_map: true\n",
      "sampler:\n",
      "  _target_: activelearning.sampler.sampler.GreedySampler\n",
      "  conf:\n",
      "    agent:\n",
      "      random_action_prob: 0.0\n",
      "      optimizer:\n",
      "        lr: 0.0005\n",
      "        n_train_steps: 5000\n",
      "    logger:\n",
      "      do:\n",
      "        online: true\n",
      "      project_name: test_gflownet\n",
      "      run_name: identity_lr5e-4\n",
      "    env:\n",
      "      length: 100\n",
      "      cell_min: 0\n",
      "      cell_max: 0.99\n",
      "      reward_func: power\n",
      "      reward_min: 1.0e-08\n",
      "      reward_beta: 1.0\n",
      "      reward_norm: 1.0\n",
      "selector:\n",
      "  _target_: activelearning.selector.selector.Selector\n",
      "surrogate:\n",
      "  _target_: activelearning.surrogate.gp_surrogate.SingleTaskGPRegressor\n",
      "acquisition:\n",
      "  _target_: activelearning.acquisition.acquisition.BOTorchMaxValueEntropyAcquisition\n",
      "  acq_fn_class:\n",
      "    _target_: botorch.acquisition.max_value_entropy_search.qLowerBoundMaxValueEntropy\n",
      "    _partial_: true\n",
      "user:\n",
      "  logdir:\n",
      "    root: ./logs\n",
      "  data:\n",
      "    root: ./data\n",
      "logger:\n",
      "  _target_: activelearning.utils.logger.WandBLogger\n",
      "  project_name: test_branin\n",
      "  run_name: 100_greedy_gp_mve\n",
      "device: cpu\n",
      "float_precision: 32\n",
      "budget: 10\n",
      "n_samples: 5\n",
      "seed: 31415\n",
      "maximize: false\n",
      "\n",
      "{'dataset': {'grid_size': 100, 'normalize_scores': True, 'train_fraction': 1.0, 'batch_size': 16, 'shuffle': True, 'train_path': '~/activelearning/data/branin/data_100_train.csv', 'test_path': None, '_target_': 'activelearning.dataset.grid.BraninDatasetHandler'}, 'oracle': {'_target_': 'activelearning.oracle.oracle.BraninOracle', 'fidelity': 1, 'do_domain_map': True}, 'sampler': {'_target_': 'activelearning.sampler.sampler.GreedySampler', 'conf': {'agent': {'random_action_prob': 0.0, 'optimizer': {'lr': 0.0005, 'n_train_steps': 5000}}, 'logger': {'do': {'online': True}, 'project_name': 'test_gflownet', 'run_name': 'identity_lr5e-4'}, 'env': {'length': 100, 'cell_min': 0, 'cell_max': 0.99, 'reward_func': 'power', 'reward_min': 1e-08, 'reward_beta': 1.0, 'reward_norm': 1.0}}}, 'selector': {'_target_': 'activelearning.selector.selector.Selector'}, 'surrogate': {'_target_': 'activelearning.surrogate.gp_surrogate.SingleTaskGPRegressor'}, 'acquisition': {'_target_': 'activelearning.acquisition.acquisition.BOTorchMaxValueEntropyAcquisition', 'acq_fn_class': {'_target_': 'botorch.acquisition.max_value_entropy_search.qLowerBoundMaxValueEntropy', '_partial_': True}}, 'user': {'logdir': {'root': './logs'}, 'data': {'root': './data'}}, 'logger': {'_target_': 'activelearning.utils.logger.WandBLogger', 'project_name': 'test_branin', 'run_name': '100_greedy_gp_mve'}, 'device': 'cpu', 'float_precision': 32, 'budget': 10, 'n_samples': 5, 'seed': 31415, 'maximize': False}\n"
     ]
    },
    {
     "name": "stderr",
     "output_type": "stream",
     "text": [
      "/home/mila/c/christina.humer/.conda/envs/al_new/lib/python3.10/site-packages/hydra/_internal/defaults_list.py:251: UserWarning: In 'test_branin.yaml': Defaults list is missing `_self_`. See https://hydra.cc/docs/1.2/upgrades/1.0_to_1.1/default_composition_order for more information\n",
      "  warnings.warn(msg, UserWarning)\n"
     ]
    }
   ],
   "source": [
    "# Load Hydra config in notebooks\n",
    "# https://github.com/facebookresearch/hydra/blob/main/examples/jupyter_notebooks/compose_configs_in_notebook.ipynb\n",
    "import os\n",
    "from hydra import initialize_config_dir, compose\n",
    "import hydra\n",
    "from omegaconf import OmegaConf\n",
    "abs_config_dir = os.path.abspath(\"config/\")\n",
    "\n",
    "with initialize_config_dir(version_base=None, config_dir=abs_config_dir):\n",
    "    config = compose(config_name=\"test_branin.yaml\", overrides=[])\n",
    "    print(OmegaConf.to_yaml(config))\n",
    "    print(config)\n",
    "\n",
    "config.sampler.conf.logger.do.online = False"
   ]
  },
  {
   "cell_type": "code",
   "execution_count": 6,
   "metadata": {},
   "outputs": [],
   "source": [
    "import torch\n",
    "# device = \"cuda\" if torch.cuda.is_available() else \"cpu\"\n",
    "device = config.device\n",
    "n_iterations = config.budget  # TODO: replace with budget\n",
    "grid_size = config.dataset.grid_size\n",
    "n_samples = config.n_samples\n",
    "\n",
    "from gflownet.utils.common import set_float_precision\n",
    "float_prec = set_float_precision(config.float_precision)\n",
    "# float_prec = set_float_precision(32)\n",
    "\n",
    "import matplotlib.colors as cm\n",
    "import matplotlib.pyplot as plt\n",
    "# colors = [\"red\", \"blue\", \"green\", \"orange\", \"brown\", \"pink\"]\n",
    "colors = plt.get_cmap(\"Reds\")"
   ]
  },
  {
   "cell_type": "code",
   "execution_count": 7,
   "metadata": {},
   "outputs": [
    {
     "data": {
      "text/html": [
       "Finishing last run (ID:1nam4wno) before initializing another..."
      ],
      "text/plain": [
       "<IPython.core.display.HTML object>"
      ]
     },
     "metadata": {},
     "output_type": "display_data"
    },
    {
     "data": {
      "application/vnd.jupyter.widget-view+json": {
       "model_id": "8f578f7df5c54000a39524f6fdae9100",
       "version_major": 2,
       "version_minor": 0
      },
      "text/plain": [
       "VBox(children=(Label(value='1.680 MB of 1.680 MB uploaded\\r'), FloatProgress(value=1.0, max=1.0)))"
      ]
     },
     "metadata": {},
     "output_type": "display_data"
    },
    {
     "data": {
      "text/html": [
       "<style>\n",
       "    table.wandb td:nth-child(1) { padding: 0 10px; text-align: left ; width: auto;} td:nth-child(2) {text-align: left ; width: 100%}\n",
       "    .wandb-row { display: flex; flex-direction: row; flex-wrap: wrap; justify-content: flex-start; width: 100% }\n",
       "    .wandb-col { display: flex; flex-direction: column; flex-basis: 100%; flex: 1; padding: 10px; }\n",
       "    </style>\n",
       "<div class=\"wandb-row\"><div class=\"wandb-col\"><h3>Run history:</h3><br/><table class=\"wandb\"><tr><td>best_score</td><td>▃▁▁▂▁█▁▂▁▃</td></tr><tr><td>mean_topk_score</td><td>█▃▂▂▁▁▁▁▁▁</td></tr></table><br/></div><div class=\"wandb-col\"><h3>Run summary:</h3><br/><table class=\"wandb\"><tr><td>best_score</td><td>-290.9906</td></tr><tr><td>mean_topk_score</td><td>-306.94138</td></tr></table><br/></div></div>"
      ],
      "text/plain": [
       "<IPython.core.display.HTML object>"
      ]
     },
     "metadata": {},
     "output_type": "display_data"
    },
    {
     "data": {
      "text/html": [
       " View run <strong style=\"color:#cdcd00\">100_random_dkl-30epochs_mve</strong> at: <a href='https://wandb.ai/christina-humer/test_branin/runs/1nam4wno' target=\"_blank\">https://wandb.ai/christina-humer/test_branin/runs/1nam4wno</a><br/> View project at: <a href='https://wandb.ai/christina-humer/test_branin' target=\"_blank\">https://wandb.ai/christina-humer/test_branin</a><br/>Synced 5 W&B file(s), 30 media file(s), 0 artifact file(s) and 0 other file(s)"
      ],
      "text/plain": [
       "<IPython.core.display.HTML object>"
      ]
     },
     "metadata": {},
     "output_type": "display_data"
    },
    {
     "data": {
      "text/html": [
       "Find logs at: <code>./wandb/run-20240509_072444-1nam4wno/logs</code>"
      ],
      "text/plain": [
       "<IPython.core.display.HTML object>"
      ]
     },
     "metadata": {},
     "output_type": "display_data"
    },
    {
     "data": {
      "text/html": [
       "Successfully finished last run (ID:1nam4wno). Initializing new run:<br/>"
      ],
      "text/plain": [
       "<IPython.core.display.HTML object>"
      ]
     },
     "metadata": {},
     "output_type": "display_data"
    },
    {
     "data": {
      "application/vnd.jupyter.widget-view+json": {
       "model_id": "ebf8a94f6b56427d8ea54a6c0df678a2",
       "version_major": 2,
       "version_minor": 0
      },
      "text/plain": [
       "VBox(children=(Label(value='Waiting for wandb.init()...\\r'), FloatProgress(value=0.011112150399842195, max=1.0…"
      ]
     },
     "metadata": {},
     "output_type": "display_data"
    },
    {
     "data": {
      "text/html": [
       "wandb version 0.17.0 is available!  To upgrade, please run:\n",
       " $ pip install wandb --upgrade"
      ],
      "text/plain": [
       "<IPython.core.display.HTML object>"
      ]
     },
     "metadata": {},
     "output_type": "display_data"
    },
    {
     "data": {
      "text/html": [
       "Tracking run with wandb version 0.16.6"
      ],
      "text/plain": [
       "<IPython.core.display.HTML object>"
      ]
     },
     "metadata": {},
     "output_type": "display_data"
    },
    {
     "data": {
      "text/html": [
       "Run data is saved locally in <code>/home/mila/c/christina.humer/activelearning/wandb/run-20240509_072905-kws745n1</code>"
      ],
      "text/plain": [
       "<IPython.core.display.HTML object>"
      ]
     },
     "metadata": {},
     "output_type": "display_data"
    },
    {
     "data": {
      "text/html": [
       "Syncing run <strong><a href='https://wandb.ai/christina-humer/test_branin/runs/kws745n1' target=\"_blank\">100_greedy_dkl-30epochs_mve</a></strong> to <a href='https://wandb.ai/christina-humer/test_branin' target=\"_blank\">Weights & Biases</a> (<a href='https://wandb.me/run' target=\"_blank\">docs</a>)<br/>"
      ],
      "text/plain": [
       "<IPython.core.display.HTML object>"
      ]
     },
     "metadata": {},
     "output_type": "display_data"
    },
    {
     "data": {
      "text/html": [
       " View project at <a href='https://wandb.ai/christina-humer/test_branin' target=\"_blank\">https://wandb.ai/christina-humer/test_branin</a>"
      ],
      "text/plain": [
       "<IPython.core.display.HTML object>"
      ]
     },
     "metadata": {},
     "output_type": "display_data"
    },
    {
     "data": {
      "text/html": [
       " View run at <a href='https://wandb.ai/christina-humer/test_branin/runs/kws745n1' target=\"_blank\">https://wandb.ai/christina-humer/test_branin/runs/kws745n1</a>"
      ],
      "text/plain": [
       "<IPython.core.display.HTML object>"
      ]
     },
     "metadata": {},
     "output_type": "display_data"
    }
   ],
   "source": [
    "from activelearning.utils.logger import WandBLogger, ConsoleLogger\n",
    "logger = WandBLogger(project_name=\"test_branin\", run_name=\"100_greedy_dkl-30epochs_mve\")\n",
    "# logger = ConsoleLogger(project_name=\"test_branin\", run_name=\"Greedy 100x100\")\n",
    "# logger = None\n",
    "\n",
    "from activelearning.utils.plotter import PlotHelper\n",
    "plotter = PlotHelper(logger)\n",
    "# plotter = PlotHelper()"
   ]
  },
  {
   "cell_type": "code",
   "execution_count": 8,
   "metadata": {},
   "outputs": [
    {
     "name": "stderr",
     "output_type": "stream",
     "text": [
      "/home/mila/c/christina.humer/.conda/envs/al_new/lib/python3.10/site-packages/botorch/models/approximate_gp.py:367: UserWarning: The model inputs are of type torch.float32. It is strongly recommended to use double precision in BoTorch, as this improves both precision and stability and can help avoid numerical errors. See https://github.com/pytorch/botorch/discussions/1444\n",
      "  self._validate_tensor_args(X=transformed_X, Y=train_Y)\n",
      "Epoch: 100%|██████████| 30/30 [00:09<00:00,  3.12it/s, loss=1.8] \n",
      "/home/mila/c/christina.humer/activelearning/activelearning/utils/plotter.py:73: UserWarning: No data for colormapping provided via 'c'. Parameters 'cmap' will be ignored\n",
      "  scatter = ax.scatter(\n",
      "/home/mila/c/christina.humer/.conda/envs/al_new/lib/python3.10/site-packages/botorch/models/utils/assorted.py:202: InputDataWarning: Input data is not standardized (mean = tensor([0.4740]), std = tensor([0.7707])). Please consider scaling the input to zero mean and unit variance.\n",
      "  warnings.warn(msg, InputDataWarning)\n",
      "Epoch: 100%|██████████| 30/30 [00:14<00:00,  2.09it/s, loss=1.08]\n",
      "/home/mila/c/christina.humer/.conda/envs/al_new/lib/python3.10/site-packages/botorch/models/utils/assorted.py:202: InputDataWarning: Input data is not standardized (mean = tensor([0.6209]), std = tensor([0.6658])). Please consider scaling the input to zero mean and unit variance.\n",
      "  warnings.warn(msg, InputDataWarning)\n",
      "Epoch: 100%|██████████| 30/30 [00:16<00:00,  1.87it/s, loss=0.853]\n",
      "/home/mila/c/christina.humer/.conda/envs/al_new/lib/python3.10/site-packages/botorch/models/utils/assorted.py:202: InputDataWarning: Input data is not standardized (mean = tensor([0.4345]), std = tensor([0.6506])). Please consider scaling the input to zero mean and unit variance.\n",
      "  warnings.warn(msg, InputDataWarning)\n",
      "Epoch: 100%|██████████| 30/30 [00:15<00:00,  1.92it/s, loss=0.754]\n",
      "/home/mila/c/christina.humer/.conda/envs/al_new/lib/python3.10/site-packages/botorch/models/utils/assorted.py:202: InputDataWarning: Input data is not standardized (mean = tensor([0.3582]), std = tensor([0.5988])). Please consider scaling the input to zero mean and unit variance.\n",
      "  warnings.warn(msg, InputDataWarning)\n",
      "Epoch: 100%|██████████| 30/30 [00:14<00:00,  2.09it/s, loss=0.676]\n",
      "/home/mila/c/christina.humer/.conda/envs/al_new/lib/python3.10/site-packages/botorch/models/utils/assorted.py:202: InputDataWarning: Input data is not standardized (mean = tensor([0.2906]), std = tensor([0.5637])). Please consider scaling the input to zero mean and unit variance.\n",
      "  warnings.warn(msg, InputDataWarning)\n",
      "Epoch: 100%|██████████| 30/30 [00:15<00:00,  1.97it/s, loss=0.627]\n",
      "/home/mila/c/christina.humer/.conda/envs/al_new/lib/python3.10/site-packages/botorch/models/utils/assorted.py:202: InputDataWarning: Input data is not standardized (mean = tensor([0.3865]), std = tensor([0.5701])). Please consider scaling the input to zero mean and unit variance.\n",
      "  warnings.warn(msg, InputDataWarning)\n",
      "Epoch: 100%|██████████| 30/30 [00:16<00:00,  1.81it/s, loss=0.592]\n",
      "/home/mila/c/christina.humer/.conda/envs/al_new/lib/python3.10/site-packages/botorch/models/utils/assorted.py:202: InputDataWarning: Input data is not standardized (mean = tensor([0.4698]), std = tensor([0.5750])). Please consider scaling the input to zero mean and unit variance.\n",
      "  warnings.warn(msg, InputDataWarning)\n",
      "Epoch: 100%|██████████| 30/30 [00:14<00:00,  2.04it/s, loss=0.57] \n",
      "/home/mila/c/christina.humer/.conda/envs/al_new/lib/python3.10/site-packages/botorch/models/utils/assorted.py:202: InputDataWarning: Input data is not standardized (mean = tensor([0.5297]), std = tensor([0.5667])). Please consider scaling the input to zero mean and unit variance.\n",
      "  warnings.warn(msg, InputDataWarning)\n",
      "Epoch: 100%|██████████| 30/30 [00:16<00:00,  1.78it/s, loss=0.561]\n",
      "/home/mila/c/christina.humer/.conda/envs/al_new/lib/python3.10/site-packages/botorch/models/utils/assorted.py:202: InputDataWarning: Input data is not standardized (mean = tensor([0.5489]), std = tensor([0.5458])). Please consider scaling the input to zero mean and unit variance.\n",
      "  warnings.warn(msg, InputDataWarning)\n",
      "Epoch: 100%|██████████| 30/30 [00:17<00:00,  1.69it/s, loss=0.533]\n"
     ]
    },
    {
     "data": {
      "image/png": "[encoded data removed]",
      "text/plain": [
       "<Figure size 640x480 with 1 Axes>"
      ]
     },
     "metadata": {},
     "output_type": "display_data"
    },
    {
     "data": {
      "image/png": "[encoded data removed]",
      "text/plain": [
       "<Figure size 640x480 with 1 Axes>"
      ]
     },
     "metadata": {},
     "output_type": "display_data"
    },
    {
     "data": {
      "image/png": "[encoded data removed]",
      "text/plain": [
       "<Figure size 640x480 with 1 Axes>"
      ]
     },
     "metadata": {},
     "output_type": "display_data"
    },
    {
     "data": {
      "image/png": "[encoded data removed]",
      "text/plain": [
       "<Figure size 640x480 with 1 Axes>"
      ]
     },
     "metadata": {},
     "output_type": "display_data"
    },
    {
     "data": {
      "image/png": "[encoded data removed]",
      "text/plain": [
       "<Figure size 640x480 with 1 Axes>"
      ]
     },
     "metadata": {},
     "output_type": "display_data"
    },
    {
     "data": {
      "image/png": "[encoded data removed]",
      "text/plain": [
       "<Figure size 640x480 with 1 Axes>"
      ]
     },
     "metadata": {},
     "output_type": "display_data"
    },
    {
     "data": {
      "image/png": "[encoded data removed]",
      "text/plain": [
       "<Figure size 640x480 with 1 Axes>"
      ]
     },
     "metadata": {},
     "output_type": "display_data"
    },
    {
     "data": {
      "image/png": "[encoded data removed]",
      "text/plain": [
       "<Figure size 640x480 with 1 Axes>"
      ]
     },
     "metadata": {},
     "output_type": "display_data"
    },
    {
     "data": {
      "image/png": "[encoded data removed]",
      "text/plain": [
       "<Figure size 640x480 with 1 Axes>"
      ]
     },
     "metadata": {},
     "output_type": "display_data"
    },
    {
     "data": {
      "image/png": "[encoded data removed]",
      "text/plain": [
       "<Figure size 640x480 with 1 Axes>"
      ]
     },
     "metadata": {},
     "output_type": "display_data"
    }
   ],
   "source": [
    "from activelearning.dataset.grid import BraninDatasetHandler\n",
    "from activelearning.surrogate.gp_surrogate import (\n",
    "    SingleTaskGPRegressor,\n",
    "    DeepKernelSVGPSurrogate,\n",
    ")\n",
    "from activelearning.acquisition.acquisition import BOTorchMaxValueEntropyAcquisition\n",
    "from activelearning.sampler.sampler import GreedySampler, RandomSampler\n",
    "from activelearning.selector.selector import Selector, ScoreSelector\n",
    "from activelearning.oracle.oracle import BraninOracle\n",
    "from activelearning.surrogate.feature_extractor.mlp import MLP, Identity\n",
    "\n",
    "\n",
    "# Dataset\n",
    "dataset_handler = BraninDatasetHandler(\n",
    "    grid_size=grid_size,\n",
    "    train_path=\"./data/branin/data_%i_train.csv\" % grid_size,\n",
    "    train_fraction=1.0,\n",
    "    float_precision=float_prec,\n",
    ")\n",
    "\n",
    "candidate_set, xi, yi = dataset_handler.get_candidate_set()\n",
    "\n",
    "# Oracle\n",
    "oracle = BraninOracle(\n",
    "    fidelity=1, do_domain_map=True, device=device, float_precision=float_prec\n",
    ")\n",
    "\n",
    "if plotter is not None:\n",
    "    fig_oracle, ax_oracle = plotter.plot_function(\n",
    "        oracle, candidate_set.clone().to(device), xi=xi, yi=yi\n",
    "    )\n",
    "\n",
    "\n",
    "best_scores = []\n",
    "all_scores = {}\n",
    "\n",
    "for i in range(n_iterations):\n",
    "\n",
    "    train_data, test_data = dataset_handler.get_dataloader()\n",
    "    # print(\"iteration\", i)\n",
    "    # Surrogate (e.g., Bayesian Optimization)\n",
    "    # starts with a clean slate each iteration\n",
    "    # surrogate = SingleTaskGPRegressor(\n",
    "    #     device=device,\n",
    "    #     float_precision=float_prec,\n",
    "    # )\n",
    "\n",
    "    # feature_extractor = Identity(2)\n",
    "    feature_extractor = MLP(\n",
    "        n_input=2,\n",
    "        n_hidden=[16, 16],\n",
    "        n_output=7,\n",
    "        float_precision=32,\n",
    "    )\n",
    "    surrogate = DeepKernelSVGPSurrogate(\n",
    "        feature_extractor,\n",
    "        float_precision=float_prec,\n",
    "        device=device,\n",
    "        mll_args={\"num_data\": len(train_data.dataset)},\n",
    "        train_epochs=30,\n",
    "        lr=0.1,\n",
    "        logger=logger,\n",
    "    )\n",
    "    surrogate.fit(train_data)\n",
    "\n",
    "    acq_fn = BOTorchMaxValueEntropyAcquisition(\n",
    "        surrogate.model, device=device, float_precision=float_prec\n",
    "    )\n",
    "\n",
    "    # Sampler (e.g., GFlowNet, or Random Sampler)\n",
    "    # also starts with a clean slate; TODO: experiment with NOT training from scratch\n",
    "    sampler = RandomSampler(acq_fn)\n",
    "    sampler = GreedySampler(\n",
    "        acq_fn,\n",
    "        device=device,\n",
    "        float_precision=float_prec,\n",
    "    )\n",
    "    # sampler = hydra.utils.instantiate(\n",
    "    #     config.sampler,\n",
    "    #     acquisition=acq_fn,\n",
    "    #     device=device,\n",
    "    #     float_precision=float_prec,\n",
    "    #     _recursive_=False,\n",
    "    # )\n",
    "\n",
    "    sampler.fit()  # only necessary for samplers that train a model\n",
    "\n",
    "    samples, _ = sampler.get_samples(\n",
    "        n_samples * 5, candidate_set=candidate_set  # .clone().to(device)\n",
    "    )\n",
    "\n",
    "    if plotter is not None and hasattr(sampler, \"sampler\"):\n",
    "\n",
    "        def reward_fn(samples):\n",
    "            return sampler.sampler.env.proxy2reward(sampler.sampler.env.proxy(samples))\n",
    "\n",
    "        fig_reward, ax_reward = plotter.plot_function(\n",
    "            reward_fn, candidate_set.clone().to(device), xi=xi, yi=yi\n",
    "        )\n",
    "        fig_reward, ax_reward = plotter.plot_samples(samples, ax_reward, fig_reward)\n",
    "        ax_reward.set_title(\"reward fn + proposed samples of iteration %i\" % i)\n",
    "        plotter.log_figure(fig_reward, \"reward\")\n",
    "\n",
    "    # Selector\n",
    "    selector = Selector(\n",
    "        device=device,\n",
    "        float_precision=float_prec,\n",
    "    )\n",
    "    # selector = ScoreSelector(\n",
    "    #     acq_fn,\n",
    "    #     device=device,\n",
    "    #     float_precision=float_prec,\n",
    "    #     maximize=False,\n",
    "    # )\n",
    "    filtered_samples, _ = selector(n_samples=n_samples, candidate_set=samples.clone())\n",
    "\n",
    "    if plotter is not None:\n",
    "        x, y = train_data.dataset[:]\n",
    "        fig_surrogate, ax_surrogate = plt.subplots(ncols=2, figsize=(15,7))\n",
    "        plotter.plot_function(\n",
    "            surrogate.get_predictions, candidate_set.clone().to(device), xi=xi, yi=yi, output_index=0, fig=fig_surrogate, ax=ax_surrogate[0]\n",
    "        )\n",
    "        plotter.plot_samples(x, ax=ax_surrogate[0], fig=fig_surrogate, targets=y*-1)\n",
    "        ax_surrogate[0].set_title(\"predicted mean + train data of iteration %i\" % i)\n",
    "        plotter.plot_function(\n",
    "            surrogate.get_predictions, candidate_set.clone().to(device), xi=xi, yi=yi, output_index=1, fig=fig_surrogate, ax=ax_surrogate[1]\n",
    "        )\n",
    "        plotter.plot_samples(x, ax=ax_surrogate[1], fig=fig_surrogate, targets=y*-1)\n",
    "        ax_surrogate[1].set_title(\"predicted var + train data of iteration %i\" % i)\n",
    "        plotter.log_figure(fig_surrogate, \"surrogate\")\n",
    "\n",
    "    if plotter is not None:\n",
    "        fig_acq, ax_acq = plotter.plot_function(\n",
    "            acq_fn, candidate_set.clone().to(device), xi=xi, yi=yi\n",
    "        )\n",
    "        fig_acq, ax_acq = plotter.plot_samples(filtered_samples, ax_acq, fig_acq)\n",
    "        ax_acq.set_title(\"acquisition fn + selected samples of iteration %i\" % i)\n",
    "        plotter.log_figure(fig_acq, \"acq\")\n",
    "\n",
    "    if plotter is not None:\n",
    "        ax_oracle.scatter(\n",
    "            x=filtered_samples[:, 1].cpu(),\n",
    "            y=filtered_samples[:, 0].cpu(),\n",
    "            c=cm.to_hex(colors(i / n_iterations)),\n",
    "            marker=\"x\",\n",
    "            label=\"it %i\" % i,\n",
    "        )\n",
    "\n",
    "    scores = oracle(filtered_samples.clone()).cpu()\n",
    "    dataset_handler.update_dataset(filtered_samples.cpu(), scores)\n",
    "    best_scores.append(scores.min())\n",
    "    all_scores[i] = scores\n",
    "    if logger is not None:\n",
    "        mean_top_k = torch.stack(list(all_scores.values())).flatten().topk(n_samples, largest=False).values.mean()\n",
    "        logger.log_metric(mean_top_k, \"mean_topk_score\")\n",
    "        logger.log_metric(scores.min(), \"best_score\")\n",
    "        logger.log_step(i)\n",
    "\n",
    "if ax_oracle is not None:\n",
    "    fig_oracle.legend()\n",
    "    ax_oracle.set_title(\"oracle fn + samples\")\n",
    "    plotter.log_figure(fig_oracle, key=\"oracle\")\n",
    "\n",
    "\n",
    "fig = plt.figure()\n",
    "plt.plot(best_scores)\n",
    "plt.xlabel(\"iterations\")\n",
    "plt.ylabel(\"scores\")\n",
    "plt.title(\"Best Score in each iteration\")\n",
    "if plotter is not None:\n",
    "    plotter.log_figure(fig, key=\"best_scores\")"
   ]
  },
  {
   "cell_type": "markdown",
   "metadata": {},
   "source": [
    "# Test individual components"
   ]
  },
  {
   "cell_type": "code",
   "execution_count": null,
   "metadata": {},
   "outputs": [],
   "source": [
    "import os\n",
    "\n",
    "# os.environ['CUDA_LAUNCH_BLOCKING'] = \"1\"\n",
    "\n",
    "import torch\n",
    "\n",
    "device = \"cuda\" if torch.cuda.is_available() else \"cpu\"\n",
    "# device = \"cpu\"\n",
    "print(device)\n",
    "\n",
    "\n",
    "from gflownet.utils.common import set_float_precision\n",
    "float_prec = set_float_precision(64)\n",
    "# float_prec = torch.double\n",
    "\n",
    "import numpy as np\n",
    "grid_size = 10  # 100\n",
    "test_states = torch.tensor([[0.5, 0.5]])\n",
    "test_scores = torch.tensor([-150.0])\n",
    "n_samples = 5\n",
    "\n",
    "baseline_states = torch.tensor(\n",
    "    [\n",
    "        [0.0 * grid_size, 0.0 * grid_size],\n",
    "        [0.0 * grid_size, 0.4 * grid_size],\n",
    "        [0.4 * grid_size, 0.0 * grid_size],\n",
    "        [0.8 * grid_size, 0.8 * grid_size],\n",
    "    ]\n",
    ")\n",
    "\n",
    "# define grid space\n",
    "xi = np.arange(0, 1, 1 / grid_size)\n",
    "yi = np.arange(0, 1, 1 / grid_size)\n",
    "grid = np.array(np.meshgrid(xi, yi))\n",
    "grid_flat = torch.tensor(grid.T, dtype=float_prec).reshape(-1, 2).to(device)"
   ]
  },
  {
   "cell_type": "code",
   "execution_count": null,
   "metadata": {},
   "outputs": [],
   "source": [
    "# dataset\n",
    "from dataset.dataset import BraninDatasetHandler\n",
    "\n",
    "dataset_handler = BraninDatasetHandler(\n",
    "    grid_size=grid_size,\n",
    "    train_path=\"./storage/branin/data_%i_train.csv\" % grid_size,\n",
    "    train_fraction=1.0,\n",
    "    float_precision=float_prec,\n",
    ")\n",
    "\n",
    "# testing dataset\n",
    "dataset_handler.update_dataset(test_states, test_scores)\n",
    "print(dataset_handler.train_data.X_data, dataset_handler.train_data.y_data)\n",
    "print(dataset_handler.train_data[:])\n",
    "train_loader, test_loader = dataset_handler.get_dataloader()\n",
    "for X, y in train_loader:\n",
    "    print(X, y)"
   ]
  },
  {
   "cell_type": "code",
   "execution_count": null,
   "metadata": {},
   "outputs": [],
   "source": [
    "# Oracle\n",
    "from gflownet.proxy.box.branin import Branin\n",
    "\n",
    "oracle = Branin(fidelity=1, do_domain_map=True, device=device, float_precision=float_prec)\n",
    "\n",
    "# testing oracle\n",
    "print(oracle(baseline_states.to(device).clone() / grid_size))\n",
    "\n",
    "# plot oracle function\n",
    "plot_function(oracle, grid_flat.clone(), scatter_markers=baseline_states / grid_size)\n",
    "plt.title(\"Oracle function\")\n",
    "plt.show()"
   ]
  },
  {
   "cell_type": "code",
   "execution_count": null,
   "metadata": {},
   "outputs": [],
   "source": [
    "# Surrogate (e.g., Bayesian Optimization)\n",
    "from surrogate.surrogate import SingleTaskGPRegressor\n",
    "\n",
    "surrogate = SingleTaskGPRegressor(device=device, float_precision=float_prec)\n",
    "train_data, test_data = dataset_handler.get_dataloader()\n",
    "surrogate.fit(train_data)\n",
    "\n",
    "# testing surrogate\n",
    "preds_mean, preds_var = surrogate.get_predictions(test_states / grid_size)\n",
    "print(preds_mean, preds_var)\n",
    "\n",
    "# plot surrogate functions\n",
    "fig, axes = plt.subplots(ncols=3, figsize=(15, 4))\n",
    "\n",
    "plot_function(\n",
    "    surrogate.get_predictions,\n",
    "    grid_flat.clone(),\n",
    "    fig=fig,\n",
    "    ax=axes[0],\n",
    "    scatter_markers=baseline_states / grid_size,\n",
    "    output_index=0,\n",
    ")\n",
    "axes[0].set_title(\"estimated mean\")\n",
    "\n",
    "plot_function(\n",
    "    surrogate.get_predictions,\n",
    "    grid_flat.clone(),\n",
    "    fig=fig,\n",
    "    ax=axes[1],\n",
    "    scatter_markers=baseline_states / grid_size,\n",
    "    output_index=1,\n",
    ")\n",
    "axes[1].set_title(\"uncertainty\")\n",
    "\n",
    "plot_function(\n",
    "    surrogate.get_acquisition_values,\n",
    "    grid_flat.clone(),\n",
    "    fig=fig,\n",
    "    ax=axes[2],\n",
    "    scatter_markers=baseline_states / grid_size,\n",
    ")\n",
    "axes[2].set_title(\"acquisition function\")\n",
    "\n",
    "fig.suptitle(\"Surrogate Model\")\n",
    "plt.show()"
   ]
  },
  {
   "cell_type": "code",
   "execution_count": null,
   "metadata": {},
   "outputs": [],
   "source": [
    "# Sampler (e.g., GFlowNet, or Random Sampler)\n",
    "from sampler.sampler import GreedySampler, RandomSampler\n",
    "\n",
    "sampler = GreedySampler(surrogate)\n",
    "# sampler = RandomSampler(surrogate)\n",
    "sampler.fit()\n",
    "samples, _ = sampler.get_samples(n_samples * 3, grid_flat.clone()).cpu()\n",
    "\n",
    "# plot acq function with proposed candidates\n",
    "fig, ax = plot_function(\n",
    "    surrogate.get_acquisition_values, grid_flat.clone(), scatter_markers=samples\n",
    ")\n",
    "plt.title(\"Samples\")\n",
    "plt.show()"
   ]
  },
  {
   "cell_type": "code",
   "execution_count": null,
   "metadata": {},
   "outputs": [],
   "source": [
    "acq = surrogate.get_acquisition_values(grid_flat.clone()).detach().cpu()\n",
    "plt.matshow(acq.reshape(int(len(acq) ** (1 / 2)), int(len(acq) ** (1 / 2))))\n",
    "plt.scatter(samples.cpu()[:, 1] * grid_size, samples.cpu()[:, 0] * grid_size)\n",
    "plt.scatter(baseline_states[:, 1].cpu(), baseline_states[:, 0].cpu())"
   ]
  },
  {
   "cell_type": "code",
   "execution_count": null,
   "metadata": {},
   "outputs": [],
   "source": [
    "from filter.filter import Filter, ScoreFilter\n",
    "\n",
    "filter = Filter()\n",
    "# filter = OracleFilter(oracle)\n",
    "filtered_samples = filter(n_samples, samples)\n",
    "\n",
    "# plot oracle function with proposed candidates\n",
    "fig, ax = plot_function(\n",
    "    surrogate.get_acquisition_values,\n",
    "    grid_flat.clone(),\n",
    "    scatter_markers=filtered_samples.to(\"cpu\"),\n",
    ")\n",
    "plt.title(\"Proposed Candidates\")\n",
    "plt.show()"
   ]
  },
  {
   "cell_type": "code",
   "execution_count": null,
   "metadata": {},
   "outputs": [],
   "source": []
  },
  {
   "cell_type": "code",
   "execution_count": null,
   "metadata": {},
   "outputs": [],
   "source": []
  },
  {
   "cell_type": "code",
   "execution_count": null,
   "metadata": {},
   "outputs": [],
   "source": []
  },
  {
   "cell_type": "markdown",
   "metadata": {},
   "source": [
    "# GFlowNet Sampler"
   ]
  },
  {
   "cell_type": "code",
   "execution_count": null,
   "metadata": {},
   "outputs": [],
   "source": [
    "import torch\n",
    "float_prec = torch.float32\n",
    "device = \"cpu\"\n",
    "grid_size = 10"
   ]
  },
  {
   "cell_type": "code",
   "execution_count": null,
   "metadata": {},
   "outputs": [],
   "source": [
    "# dataset\n",
    "from dataset.dataset import BraninDatasetHandler\n",
    "\n",
    "dataset_handler = BraninDatasetHandler(\n",
    "    grid_size=grid_size,\n",
    "    train_path=\"./storage/branin/data_%i_train.csv\" % grid_size,\n",
    "    train_fraction=1.0,\n",
    "    float_precision=float_prec,\n",
    ")\n"
   ]
  },
  {
   "cell_type": "code",
   "execution_count": null,
   "metadata": {},
   "outputs": [],
   "source": [
    "train_data, _ = dataset_handler.get_dataloader()\n",
    "for r in train_data:\n",
    "    print(r)"
   ]
  },
  {
   "cell_type": "code",
   "execution_count": null,
   "metadata": {},
   "outputs": [],
   "source": [
    "from importlib import reload  # Python 3.4+\n",
    "import surrogate.surrogate as surrogate\n",
    "\n",
    "reload(surrogate)\n",
    "\n",
    "from surrogate.surrogate import SingleTaskGPRegressor\n",
    "\n",
    "surrogate = SingleTaskGPRegressor(device=device, float_precision=float_prec, maximize=False)\n",
    "train_data, test_data = dataset_handler.get_dataloader()\n",
    "surrogate.fit(train_data)"
   ]
  },
  {
   "cell_type": "code",
   "execution_count": null,
   "metadata": {},
   "outputs": [],
   "source": [
    "# Load Hydra config in notebooks\n",
    "# https://github.com/facebookresearch/hydra/blob/main/examples/jupyter_notebooks/compose_configs_in_notebook.ipynb\n",
    "import os\n",
    "from hydra import initialize_config_dir, compose\n",
    "import hydra\n",
    "from omegaconf import OmegaConf\n",
    "\n",
    "abs_config_dir = os.path.abspath(\"config/\")\n"
   ]
  },
  {
   "cell_type": "code",
   "execution_count": null,
   "metadata": {},
   "outputs": [],
   "source": [
    "with initialize_config_dir(version_base=None, config_dir=abs_config_dir):\n",
    "    config_logger = compose(config_name=\"logger/wandb.yaml\", overrides=[])\n",
    "    # print(OmegaConf.to_yaml(env_config))\n",
    "    print(config_logger)\n",
    "\n",
    "logger = hydra.utils.instantiate(config_logger.logger, config_logger, _recursive_=False)"
   ]
  },
  {
   "cell_type": "code",
   "execution_count": null,
   "metadata": {},
   "outputs": [],
   "source": [
    "with initialize_config_dir(version_base=None, config_dir=abs_config_dir):\n",
    "    config_logger = compose(config_name=\"logger/wandb.yaml\", overrides=[])\n",
    "    # print(OmegaConf.to_yaml(env_config))\n",
    "    print(config_logger)\n",
    "\n",
    "# Logger\n",
    "# from utils.logger import Logger\n",
    "\n",
    "# logger = Logger(config=OmegaConf.create(), **config_logger)\n",
    "logger = hydra.utils.instantiate(config_logger.logger, config_logger, _recursive_=False)\n",
    "\n",
    "with initialize_config_dir(version_base=None, config_dir=abs_config_dir):\n",
    "    config_sampler = compose(config_name=\"sampler/gflownet.yaml\", overrides=[])\n",
    "    # print(OmegaConf.to_yaml(config_sampler))\n",
    "    print(config_sampler)\n",
    "\n",
    "grid_env = hydra.utils.instantiate(\n",
    "    config_sampler.sampler.conf.env,\n",
    "    proxy=surrogate,\n",
    "    device=device,\n",
    "    float_precision=float_prec,\n",
    ")\n",
    "\n",
    "# The policy is used to model the probability of a forward/backward action\n",
    "forward_policy = hydra.utils.instantiate(\n",
    "    config_sampler.sampler.conf.policy.forward,\n",
    "    env=grid_env,\n",
    "    device=device,\n",
    "    float_precision=float_prec,\n",
    ")\n",
    "backward_policy = hydra.utils.instantiate(\n",
    "    config_sampler.sampler.conf.policy.backward,\n",
    "    env=grid_env,\n",
    "    device=device,\n",
    "    float_precision=float_prec,\n",
    ")\n",
    "\n",
    "# State flow\n",
    "if config_sampler.sampler.conf.state_flow is not None:\n",
    "    state_flow = hydra.utils.instantiate(\n",
    "        config_sampler.sampler.conf.state_flow,\n",
    "        env=grid_env,\n",
    "        device=device,\n",
    "        float_precision=float_prec,\n",
    "        base=forward_policy,\n",
    "    )\n",
    "else:\n",
    "    state_flow = None\n",
    "\n",
    "# GFlowNet Agent\n",
    "sampler = hydra.utils.instantiate(\n",
    "    config_sampler.sampler.conf.agent,\n",
    "    device=device,\n",
    "    float_precision=float_prec,\n",
    "    env=grid_env,\n",
    "    forward_policy=forward_policy,\n",
    "    backward_policy=backward_policy,\n",
    "    state_flow=state_flow,\n",
    "    buffer=config_sampler.sampler.conf.env.buffer,\n",
    "    logger=logger,\n",
    ")"
   ]
  },
  {
   "cell_type": "code",
   "execution_count": null,
   "metadata": {},
   "outputs": [],
   "source": [
    "sampler.train()"
   ]
  },
  {
   "cell_type": "code",
   "execution_count": null,
   "metadata": {},
   "outputs": [],
   "source": [
    "batch, times = sampler.sample_batch(n_forward=10, train=False)"
   ]
  },
  {
   "cell_type": "code",
   "execution_count": null,
   "metadata": {},
   "outputs": [],
   "source": [
    "batch.get_terminating_states(proxy=True)"
   ]
  },
  {
   "cell_type": "code",
   "execution_count": null,
   "metadata": {},
   "outputs": [],
   "source": [
    "sampler"
   ]
  },
  {
   "cell_type": "code",
   "execution_count": null,
   "metadata": {},
   "outputs": [],
   "source": []
  },
  {
   "cell_type": "code",
   "execution_count": null,
   "metadata": {},
   "outputs": [],
   "source": []
  },
  {
   "cell_type": "code",
   "execution_count": null,
   "metadata": {},
   "outputs": [],
   "source": [
    "with initialize_config_dir(version_base=None, config_dir=abs_config_dir):\n",
    "    config_sampler = compose(config_name=\"sampler/gflownet.yaml\", overrides=[])\n",
    "    # print(OmegaConf.to_yaml(config_sampler))\n",
    "    print(config_sampler)\n",
    "    \n",
    "sampler = hydra.utils.instantiate(\n",
    "    config_sampler.sampler,\n",
    "    surrogate=surrogate,\n",
    "    logger=logger,\n",
    "    device=device,\n",
    "    float_precision=float_prec,\n",
    ")\n"
   ]
  },
  {
   "cell_type": "code",
   "execution_count": null,
   "metadata": {},
   "outputs": [],
   "source": [
    "samples, _ = sampler.get_samples(n_samples * 3, grid_flat.clone()).cpu()\n",
    "\n",
    "# plot acq function with proposed candidates\n",
    "fig, ax = plot_function(\n",
    "    surrogate.get_acquisition_values, grid_flat.clone(), scatter_markers=samples\n",
    ")\n",
    "plt.title(\"Samples\")\n",
    "plt.show()"
   ]
  },
  {
   "cell_type": "code",
   "execution_count": null,
   "metadata": {},
   "outputs": [],
   "source": [
    "from sampler.sampler import GFlowNetSampler\n",
    "\n",
    "sampler = GFlowNetSampler(surrogate, config_sampler, logger, device, float_prec)"
   ]
  },
  {
   "cell_type": "code",
   "execution_count": null,
   "metadata": {},
   "outputs": [],
   "source": []
  },
  {
   "cell_type": "code",
   "execution_count": null,
   "metadata": {},
   "outputs": [],
   "source": []
  },
  {
   "cell_type": "code",
   "execution_count": null,
   "metadata": {},
   "outputs": [],
   "source": []
  },
  {
   "cell_type": "code",
   "execution_count": null,
   "metadata": {},
   "outputs": [],
   "source": [
    "\n",
    "# Logger\n",
    "# from utils.logger import Logger\n",
    "\n",
    "# logger = Logger(config=OmegaConf.create(), **config_logger)"
   ]
  },
  {
   "cell_type": "code",
   "execution_count": null,
   "metadata": {},
   "outputs": [],
   "source": [
    "from gflownet.envs.grid import Grid as GFlowNetGridEnv\n",
    "\n",
    "grid_env = GFlowNetGridEnv(\n",
    "    n_dim=2,\n",
    "    length=grid_size,\n",
    "    max_increment=1,\n",
    "    max_dim_per_action=1,\n",
    "    cell_min=0,\n",
    "    cell_max=1,\n",
    "    proxy=surrogate,\n",
    "    reward_func=\"identity\",\n",
    ")"
   ]
  },
  {
   "cell_type": "code",
   "execution_count": null,
   "metadata": {},
   "outputs": [],
   "source": [
    "# Load Hydra config in notebooks\n",
    "# https://github.com/facebookresearch/hydra/blob/main/examples/jupyter_notebooks/compose_configs_in_notebook.ipynb\n",
    "import os\n",
    "from hydra import initialize_config_dir, compose\n",
    "import hydra\n",
    "from omegaconf import OmegaConf\n",
    "\n",
    "abs_config_dir = os.path.abspath(\"config/\")\n",
    "with initialize_config_dir(version_base=None, config_dir=abs_config_dir):\n",
    "    config_gflownet = compose(config_name=\"gflownet.yaml\", overrides=[])\n",
    "    # print(OmegaConf.to_yaml(env_config))\n",
    "    print(config_gflownet)\n",
    "\n",
    "# GFlowNetAgent\n",
    "from gflownet.policy.base import Policy\n",
    "from gflownet.gflownet import GFlowNetAgent\n",
    "\n",
    "forward_policy = Policy(\n",
    "    config_gflownet.policy.forward,\n",
    "    env=grid_env,\n",
    "    device=device,\n",
    "    float_precision=torch.double,\n",
    ")\n",
    "\n",
    "backward_policy = Policy(\n",
    "    config_gflownet.policy.backward,\n",
    "    env=grid_env,\n",
    "    device=device,\n",
    "    float_precision=torch.double,\n",
    ")\n",
    "\n",
    "sampler = GFlowNetAgent(\n",
    "    grid_env,\n",
    "    device=device,\n",
    "    float_precision=torch.double,\n",
    "    forward_policy=forward_policy,\n",
    "    backward_policy=backward_policy,\n",
    "    logger=logger,\n",
    "    **config_gflownet\n",
    ")"
   ]
  },
  {
   "cell_type": "code",
   "execution_count": null,
   "metadata": {},
   "outputs": [],
   "source": [
    "sampler.train()"
   ]
  },
  {
   "cell_type": "code",
   "execution_count": null,
   "metadata": {},
   "outputs": [],
   "source": [
    "from gflownet.utils.batch import Batch\n",
    "batch = Batch(env=grid_env, device=device, float_type=float_prec)"
   ]
  },
  {
   "cell_type": "code",
   "execution_count": null,
   "metadata": {},
   "outputs": [],
   "source": [
    "# Make indices of batch consecutive since they are used for indexing here\n",
    "# Get necessary tensors from batch\n",
    "states_policy = batch.get_states(policy=True)\n",
    "states = batch.get_states(policy=False)\n",
    "actions = batch.get_actions()\n",
    "parents_policy = batch.get_parents(policy=True)\n",
    "parents = batch.get_parents(policy=False)\n",
    "traj_indices = batch.get_trajectory_indices(consecutive=True)\n",
    "# Forward trajectories\n",
    "masks_f = batch.get_masks_forward(of_parents=True)\n",
    "policy_output_f = forward_policy(parents_policy)"
   ]
  },
  {
   "cell_type": "code",
   "execution_count": null,
   "metadata": {},
   "outputs": [],
   "source": []
  },
  {
   "cell_type": "code",
   "execution_count": null,
   "metadata": {},
   "outputs": [],
   "source": []
  },
  {
   "cell_type": "code",
   "execution_count": null,
   "metadata": {},
   "outputs": [],
   "source": []
  },
  {
   "cell_type": "code",
   "execution_count": null,
   "metadata": {},
   "outputs": [],
   "source": []
  },
  {
   "cell_type": "code",
   "execution_count": null,
   "metadata": {},
   "outputs": [],
   "source": [
    "# # environment\n",
    "# import config\n",
    "# train = config.env.BufferSpec(\n",
    "#     path=\"~/scratch/datasets/grid/corners_d2l3_r0.csv\",\n",
    "#     seed=167,\n",
    "#     n=1000,\n",
    "# )\n",
    "# test = config.env.BufferSpec(\n",
    "#     path=\"~/scratch/datasets/grid/corners_d2l3_r0.csv\",\n",
    "#     seed=167,\n",
    "#     n=1000,\n",
    "# )\n",
    "# buffer = config.env.Buffer(train=train, test=test)\n",
    "# config_env = config.env.Grid_Env(\n",
    "#     buffer,\n",
    "#     min_step_len=1,\n",
    "#     max_step_len=1,\n",
    "#     cell_min=-1,\n",
    "#     cell_max=1\n",
    "# )\n",
    "\n",
    "# from environment.grid_env import GridEnv\n",
    "# env = GridEnv(**config_env.__dict__)"
   ]
  }
 ],
 "metadata": {
  "kernelspec": {
   "display_name": "Python 3",
   "language": "python",
   "name": "python3"
  },
  "language_info": {
   "codemirror_mode": {
    "name": "ipython",
    "version": 3
   },
   "file_extension": ".py",
   "mimetype": "text/x-python",
   "name": "python",
   "nbconvert_exporter": "python",
   "pygments_lexer": "ipython3",
   "version": "3.10.13"
  }
 },
 "nbformat": 4,
 "nbformat_minor": 2
}
